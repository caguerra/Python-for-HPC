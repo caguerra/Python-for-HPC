{
 "cells": [
  {
   "cell_type": "markdown",
   "id": "137ce0ef-cbea-4900-b764-0af2b5e98d3d",
   "metadata": {},
   "source": [
    "# Vanilla Python"
   ]
  },
  {
   "cell_type": "markdown",
   "id": "740733be-9eba-4300-b20c-ff1e6a125b9c",
   "metadata": {},
   "source": [
    "To illustrate Cython, you can consider the following Python function that will compute the first `n` primes and return them as a list."
   ]
  },
  {
   "cell_type": "code",
   "execution_count": 1,
   "id": "4c383365-765d-41f3-9913-e93e3a580e42",
   "metadata": {
    "tags": []
   },
   "outputs": [
    {
     "name": "stdout",
     "output_type": "stream",
     "text": [
      "def primes(kmax):\n",
      "    p = [0]*1000\n",
      "    result = []\n",
      "    if kmax > 1000:\n",
      "        kmax = 1000\n",
      "    k = 0\n",
      "    n = 2\n",
      "    while k < kmax:\n",
      "        i = 0\n",
      "        while i < k and n % p[i] != 0:\n",
      "            i = i + 1\n",
      "        if i == k:\n",
      "            p[k] = n\n",
      "            k = k + 1\n",
      "            result.append(n)\n",
      "        n = n + 1\n",
      "    return result\n"
     ]
    }
   ],
   "source": [
    "%cat primes_vanilla.py"
   ]
  },
  {
   "cell_type": "markdown",
   "id": "df0fb7bd-3ae9-4e41-9986-39a41769628b",
   "metadata": {},
   "source": [
    "You can import the module and call the function using the `%timeit` magic to establish a baseline timning."
   ]
  },
  {
   "cell_type": "code",
   "execution_count": 4,
   "id": "9057c260-3897-4e18-8be0-d9c1a3085892",
   "metadata": {
    "tags": []
   },
   "outputs": [],
   "source": [
    "import primes_vanilla"
   ]
  },
  {
   "cell_type": "code",
   "execution_count": 5,
   "id": "90ea691e-655f-4449-a8ab-605dc16137c7",
   "metadata": {
    "tags": []
   },
   "outputs": [
    {
     "data": {
      "text/plain": [
       "[2, 3, 5, 7, 11, 13, 17, 19, 23, 29, 31, 37, 41, 43, 47, 53, 59, 61, 67, 71]"
      ]
     },
     "execution_count": 5,
     "metadata": {},
     "output_type": "execute_result"
    }
   ],
   "source": [
    "primes_vanilla.primes(20)"
   ]
  },
  {
   "cell_type": "code",
   "execution_count": 6,
   "id": "a18ab705-dae5-47a0-bada-bcc857b921c9",
   "metadata": {
    "tags": []
   },
   "outputs": [
    {
     "name": "stdout",
     "output_type": "stream",
     "text": [
      "17.4 ms ± 1.29 ms per loop (mean ± std. dev. of 7 runs, 10 loops each)\n"
     ]
    }
   ],
   "source": [
    "%timeit primes_vanilla.primes(1000)"
   ]
  },
  {
   "cell_type": "markdown",
   "id": "88d2944f-0f05-4271-94eb-9edd5c602001",
   "metadata": {},
   "source": [
    "# Cython `.pyx` files"
   ]
  },
  {
   "cell_type": "markdown",
   "id": "4d062abf-fad1-459f-920e-acb6a8b73753",
   "metadata": {},
   "source": [
    "A first approach to speed up this computation is rewriting this function in Cython.  You can review the source code below."
   ]
  },
  {
   "cell_type": "code",
   "execution_count": 4,
   "id": "7fadfc46-11b6-40be-a541-f14e6fa1d995",
   "metadata": {
    "tags": []
   },
   "outputs": [
    {
     "name": "stdout",
     "output_type": "stream",
     "text": [
      "def primes(int kmax):\n",
      "    cdef int n, k, i\n",
      "    cdef int p[1000]\n",
      "    result = []\n",
      "    if kmax > 1000:\n",
      "        kmax = 1000\n",
      "    k = 0\n",
      "    n = 2\n",
      "    while k < kmax:\n",
      "        i = 0\n",
      "        while i < k and n % p[i] != 0:\n",
      "            i = i + 1\n",
      "        if i == k:\n",
      "            p[k] = n\n",
      "            k = k + 1\n",
      "            result.append(n)\n",
      "        n = n + 1\n",
      "    return result\n"
     ]
    }
   ],
   "source": [
    "%cat primes_cython.pyx"
   ]
  },
  {
   "cell_type": "markdown",
   "id": "784f09a9-c76c-4601-8250-0f66349683ed",
   "metadata": {},
   "source": [
    "As you can see, the only changes to the original function are\n",
    "* the declarations of the types for the function's argument,\n",
    "* the declaration of the type of the variables `n`, `k`, `i`, and\n",
    "* replacing the `p` Python array by a C array of `int`.\n",
    "\n",
    "This code first needs to be compiled before it can be run.  Fortunately, this can easily be done from a Jupyter notebook by using the `pyximport` module.  The `install` function will ensure that for `.pyx` files, the `import` defined by `pyximport` will be used.  We also specify the `language_level` to Python 3."
   ]
  },
  {
   "cell_type": "code",
   "execution_count": 7,
   "id": "333e6db5-da37-483a-8287-34b299ba2cd0",
   "metadata": {
    "tags": []
   },
   "outputs": [],
   "source": [
    "import pyximport\n",
    "pyximport.install(pyximport=True, pyimport=True, language_level='3str');"
   ]
  },
  {
   "cell_type": "markdown",
   "id": "3ef79c3b-e8d4-4a07-a361-02e6979dcd7a",
   "metadata": {},
   "source": [
    "Now you can import the Cython module that implements the `primes` function and time it for comparison with the vanilla Python implementation."
   ]
  },
  {
   "cell_type": "code",
   "execution_count": 8,
   "id": "70ae637a-6a45-4def-baa2-20eaabadc448",
   "metadata": {
    "tags": []
   },
   "outputs": [],
   "source": [
    "import primes_cython"
   ]
  },
  {
   "cell_type": "code",
   "execution_count": 9,
   "id": "7cd2d7e7-2bb1-4080-adbc-193ce29b34ad",
   "metadata": {
    "tags": []
   },
   "outputs": [
    {
     "data": {
      "text/plain": [
       "[2, 3, 5, 7, 11, 13, 17, 19, 23, 29, 31, 37, 41, 43, 47, 53, 59, 61, 67, 71]"
      ]
     },
     "execution_count": 9,
     "metadata": {},
     "output_type": "execute_result"
    }
   ],
   "source": [
    "primes_cython.primes(20)"
   ]
  },
  {
   "cell_type": "code",
   "execution_count": 10,
   "id": "9195d340-9a0f-41c1-a450-e4b66f155c05",
   "metadata": {
    "tags": []
   },
   "outputs": [
    {
     "name": "stdout",
     "output_type": "stream",
     "text": [
      "920 µs ± 16.1 µs per loop (mean ± std. dev. of 7 runs, 1,000 loops each)\n"
     ]
    }
   ],
   "source": [
    "%timeit primes_cython.primes(1000)"
   ]
  },
  {
   "cell_type": "markdown",
   "id": "2587cac1-4c24-4329-9a48-ad6f6b77202f",
   "metadata": {},
   "source": [
    "It is quite clear that the speedup is considerable for very little effort on your part."
   ]
  },
  {
   "cell_type": "markdown",
   "id": "9f083fc0-d5a1-4fdf-9889-407c26c7cd48",
   "metadata": {
    "tags": []
   },
   "source": [
    "# Pure Python & Cython"
   ]
  },
  {
   "cell_type": "markdown",
   "id": "99120581-7942-4949-8111-51aaeec6ee58",
   "metadata": {},
   "source": [
    "It is however also possible to use pure Python with type annotations to get a similar result."
   ]
  },
  {
   "cell_type": "code",
   "execution_count": 8,
   "id": "0785d966-aec8-4a7c-95bc-4f305109ae3b",
   "metadata": {
    "tags": []
   },
   "outputs": [
    {
     "name": "stdout",
     "output_type": "stream",
     "text": [
      "import cython\n",
      "\n",
      "def primes(nb_primes: cython.int):\n",
      "    i: cython.int\n",
      "    p: cython.int[1000]\n",
      "\n",
      "    if nb_primes > 1000:\n",
      "        nb_primes = 1000\n",
      "\n",
      "    if not cython.compiled:  # Only if regular Python is running\n",
      "        p = [0] * 1000       # Make p work almost like a C array\n",
      "\n",
      "    len_p: cython.int = 0  # The current number of elements in p.\n",
      "    n: cython.int = 2\n",
      "    while len_p < nb_primes:\n",
      "        # Is n prime?\n",
      "        for i in p[:len_p]:\n",
      "            if n % i == 0:\n",
      "                break\n",
      "\n",
      "        # If no break occurred in the loop, we have a prime.\n",
      "        else:\n",
      "            p[len_p] = n\n",
      "            len_p += 1\n",
      "        n += 1\n",
      "\n",
      "    # Let's copy the result into a Python list:\n",
      "    result_as_list = [prime for prime in p[:len_p]]\n",
      "    return result_as_list"
     ]
    }
   ],
   "source": [
    "%cat primes_pure_python.py"
   ]
  },
  {
   "cell_type": "markdown",
   "id": "a208daab-efa3-4d00-b327-8c71ce01591e",
   "metadata": {},
   "source": [
    "Note that\n",
    "* the `cython` module has to be imported,\n",
    "* the Cython types such as `cython.int` have to be specified, rather than `int`,\n",
    "* you can check whether the Python function has been compiled using `cython.compiled`."
   ]
  },
  {
   "cell_type": "code",
   "execution_count": 11,
   "id": "338d4447-e6c6-4335-8715-102c19fa5bf0",
   "metadata": {
    "tags": []
   },
   "outputs": [],
   "source": [
    "import primes_pure_python"
   ]
  },
  {
   "cell_type": "code",
   "execution_count": 12,
   "id": "7488739a-8d5b-451a-9f62-1a8a60c5fff7",
   "metadata": {
    "tags": []
   },
   "outputs": [
    {
     "data": {
      "text/plain": [
       "[2, 3, 5, 7, 11, 13, 17, 19, 23, 29, 31, 37, 41, 43, 47, 53, 59, 61, 67, 71]"
      ]
     },
     "execution_count": 12,
     "metadata": {},
     "output_type": "execute_result"
    }
   ],
   "source": [
    "primes_pure_python.primes(20)"
   ]
  },
  {
   "cell_type": "code",
   "execution_count": 13,
   "id": "a572342b-b458-463f-9b4f-9add15fabbf9",
   "metadata": {
    "tags": []
   },
   "outputs": [
    {
     "name": "stdout",
     "output_type": "stream",
     "text": [
      "907 µs ± 9.59 µs per loop (mean ± std. dev. of 7 runs, 1,000 loops each)\n"
     ]
    }
   ],
   "source": [
    "%timeit primes_pure_python.primes(1000)"
   ]
  },
  {
   "cell_type": "markdown",
   "id": "c1b1698a-e81d-4030-b3d7-1b39ba7e241c",
   "metadata": {},
   "source": [
    "The performance is almost identical to that of the `.pyx` file, and the code is pure Python."
   ]
  },
  {
   "cell_type": "markdown",
   "id": "3fb71414-a4e3-43a2-9a9a-22f3c08e7c2a",
   "metadata": {},
   "source": [
    "# Dynamic memory management"
   ]
  },
  {
   "cell_type": "markdown",
   "id": "93eded2c-785a-49d5-ad45-d00ec50299ea",
   "metadata": {},
   "source": [
    "You can use `malloc` and `free` in Cython code, both in `.pyx` files and using the pure Python syntax."
   ]
  },
  {
   "cell_type": "markdown",
   "id": "710f25c4-f3a9-47a6-bd59-6a50a448f7eb",
   "metadata": {},
   "source": [
    "## Cython `.pyx` files"
   ]
  },
  {
   "cell_type": "code",
   "execution_count": 1,
   "id": "e81b0e65-21d8-4d85-8afc-6f7704d5ee26",
   "metadata": {
    "tags": []
   },
   "outputs": [
    {
     "name": "stdout",
     "output_type": "stream",
     "text": [
      "from libc.stdlib cimport malloc, free\n",
      "\n",
      "\n",
      "def primes(int kmax):\n",
      "    cdef int n, k, i\n",
      "    cdef int *p = <int *> malloc(kmax*sizeof(int))\n",
      "    result = []\n",
      "    if kmax > 1000:\n",
      "        kmax = 1000\n",
      "    k = 0\n",
      "    n = 2\n",
      "    while k < kmax:\n",
      "        i = 0\n",
      "        while i < k and n % p[i] != 0:\n",
      "            i = i + 1\n",
      "        if i == k:\n",
      "            p[k] = n\n",
      "            k = k + 1\n",
      "            result.append(n)\n",
      "        n = n + 1\n",
      "    free(p)\n",
      "    return result\n"
     ]
    }
   ],
   "source": [
    "%cat primes_malloc.pyx"
   ]
  },
  {
   "cell_type": "code",
   "execution_count": 2,
   "id": "1600340e-0460-48bc-b2a7-4acb2f2c526f",
   "metadata": {
    "tags": []
   },
   "outputs": [],
   "source": [
    "import primes_malloc"
   ]
  },
  {
   "cell_type": "code",
   "execution_count": 3,
   "id": "d3a8031e-97fd-4a0d-b7ff-84b90cd5fac3",
   "metadata": {
    "tags": []
   },
   "outputs": [
    {
     "data": {
      "text/plain": [
       "[2, 3, 5, 7, 11, 13, 17, 19, 23, 29, 31, 37, 41, 43, 47, 53, 59, 61, 67, 71]"
      ]
     },
     "execution_count": 3,
     "metadata": {},
     "output_type": "execute_result"
    }
   ],
   "source": [
    "primes_malloc.primes(20)"
   ]
  },
  {
   "cell_type": "code",
   "execution_count": 14,
   "id": "46f10581-8ed6-4136-8b25-b9fcf71b3924",
   "metadata": {
    "tags": []
   },
   "outputs": [
    {
     "name": "stdout",
     "output_type": "stream",
     "text": [
      "965 µs ± 71 µs per loop (mean ± std. dev. of 7 runs, 1,000 loops each)\n"
     ]
    }
   ],
   "source": [
    "%timeit primes_malloc.primes(1000)"
   ]
  },
  {
   "cell_type": "markdown",
   "id": "1acbaa51-36c3-4fcd-b850-fa0fc4a097ae",
   "metadata": {},
   "source": [
    "## Pure Python syntax"
   ]
  },
  {
   "cell_type": "code",
   "execution_count": 16,
   "id": "4ca0934f-c658-47bd-a726-7f6471936af0",
   "metadata": {
    "tags": []
   },
   "outputs": [
    {
     "name": "stdout",
     "output_type": "stream",
     "text": [
      "import cython\n",
      "from cython.cimports.libc.stdlib import malloc, free\n",
      "\n",
      "def primes(nb_primes: cython.int):\n",
      "    i: cython.int\n",
      "    p: cython.p_int = cython.cast(cython.p_int, malloc(nb_primes*cython.sizeof(cython.int)))\n",
      "\n",
      "\n",
      "    len_p: cython.int = 0  # The current number of elements in p.\n",
      "    n: cython.int = 2\n",
      "    while len_p < nb_primes:\n",
      "        # Is n prime?\n",
      "        for i in p[:len_p]:\n",
      "            if n % i == 0:\n",
      "                break\n",
      "\n",
      "        # If no break occurred in the loop, we have a prime.\n",
      "        else:\n",
      "            p[len_p] = n\n",
      "            len_p += 1\n",
      "        n += 1\n",
      "\n",
      "    # Let's copy the result into a Python list:\n",
      "    result_as_list = [prime for prime in p[:len_p]]\n",
      "    free(p)\n",
      "    return result_as_list\n"
     ]
    }
   ],
   "source": [
    "%cat primes_pure_malloc.py"
   ]
  },
  {
   "cell_type": "code",
   "execution_count": 17,
   "id": "b32230ab-1b1c-4c32-8699-3bf6e4bbbc65",
   "metadata": {
    "tags": []
   },
   "outputs": [
    {
     "name": "stderr",
     "output_type": "stream",
     "text": [
      "In function ‘__pyx_pf_18primes_pure_malloc_primes’,\n",
      "    inlined from ‘__pyx_pw_18primes_pure_malloc_1primes’ at /home/gjb/.pyxbld/temp.linux-x86_64-cpython-311/home/gjb/Projects/Python-for-HPC/source-code/cython/Primes/primes_pure_malloc.c:2139:13:\n",
      "/home/gjb/.pyxbld/temp.linux-x86_64-cpython-311/home/gjb/Projects/Python-for-HPC/source-code/cython/Primes/primes_pure_malloc.c:2173:23: warning: argument 1 value ‘18446744073709551612’ exceeds maximum object size 9223372036854775807 [-Walloc-size-larger-than=]\n",
      " 2173 |   __pyx_v_p = ((int *)malloc((__pyx_v_nb_primes * (sizeof(int)))));\n",
      "      |                       ^~~~~~~~~~~~~~~~~~~~~~~~~~~~~~~~~~~~~~~~~~~\n",
      "In file included from /home/gjb/mambaforge/envs/python_for_hpc/include/python3.11/Python.h:23,\n",
      "                 from /home/gjb/.pyxbld/temp.linux-x86_64-cpython-311/home/gjb/Projects/Python-for-HPC/source-code/cython/Primes/primes_pure_malloc.c:28:\n",
      "/home/gjb/.pyxbld/temp.linux-x86_64-cpython-311/home/gjb/Projects/Python-for-HPC/source-code/cython/Primes/primes_pure_malloc.c: In function ‘__pyx_pw_18primes_pure_malloc_1primes’:\n",
      "/usr/include/stdlib.h:540:14: note: in a call to allocation function ‘malloc’ declared here\n",
      "  540 | extern void *malloc (size_t __size) __THROW __attribute_malloc__\n",
      "      |              ^~~~~~\n"
     ]
    }
   ],
   "source": [
    "import primes_pure_malloc"
   ]
  },
  {
   "cell_type": "markdown",
   "id": "4881b2e3-b704-4e22-ba3a-e82ba111efa5",
   "metadata": {},
   "source": [
    "Although the compiler warning seems a bit unsettling, it can be ignored in this case."
   ]
  },
  {
   "cell_type": "code",
   "execution_count": 18,
   "id": "e693a6ae-effe-4fe6-bbd5-b9d3c52497c0",
   "metadata": {
    "tags": []
   },
   "outputs": [
    {
     "data": {
      "text/plain": [
       "[2, 3, 5, 7, 11, 13, 17, 19, 23, 29, 31, 37, 41, 43, 47, 53, 59, 61, 67, 71]"
      ]
     },
     "execution_count": 18,
     "metadata": {},
     "output_type": "execute_result"
    }
   ],
   "source": [
    "primes_pure_malloc.primes(20)"
   ]
  },
  {
   "cell_type": "code",
   "execution_count": 19,
   "id": "de99c36f-7d88-4ca2-9386-1dcd69599ff5",
   "metadata": {
    "tags": []
   },
   "outputs": [
    {
     "name": "stdout",
     "output_type": "stream",
     "text": [
      "911 µs ± 17.8 µs per loop (mean ± std. dev. of 7 runs, 1,000 loops each)\n"
     ]
    }
   ],
   "source": [
    "%timeit primes_pure_malloc.primes(1000)"
   ]
  },
  {
   "cell_type": "code",
   "execution_count": null,
   "id": "2de6ca01-db9f-403c-ae6b-c7c871c757a8",
   "metadata": {},
   "outputs": [],
   "source": []
  }
 ],
 "metadata": {
  "kernelspec": {
   "display_name": "Python 3 (ipykernel)",
   "language": "python",
   "name": "python3"
  },
  "language_info": {
   "codemirror_mode": {
    "name": "ipython",
    "version": 3
   },
   "file_extension": ".py",
   "mimetype": "text/x-python",
   "name": "python",
   "nbconvert_exporter": "python",
   "pygments_lexer": "ipython3",
   "version": "3.11.5"
  },
  "toc-autonumbering": true
 },
 "nbformat": 4,
 "nbformat_minor": 5
}

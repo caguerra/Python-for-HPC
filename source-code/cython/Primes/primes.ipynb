{
 "cells": [
  {
   "cell_type": "markdown",
   "id": "137ce0ef-cbea-4900-b764-0af2b5e98d3d",
   "metadata": {},
   "source": [
    "# Vanilla Python"
   ]
  },
  {
   "cell_type": "markdown",
   "id": "740733be-9eba-4300-b20c-ff1e6a125b9c",
   "metadata": {},
   "source": [
    "To illustrate Cython, you can consider the following Python function that will compute the first `n` primes and return them as a list."
   ]
  },
  {
   "cell_type": "code",
   "execution_count": 1,
   "id": "4c383365-765d-41f3-9913-e93e3a580e42",
   "metadata": {
    "tags": []
   },
   "outputs": [
    {
     "name": "stdout",
     "output_type": "stream",
     "text": [
      "def primes(kmax):\n",
      "    p = [0]*1000\n",
      "    result = []\n",
      "    if kmax > 1000:\n",
      "        kmax = 1000\n",
      "    k = 0\n",
      "    n = 2\n",
      "    while k < kmax:\n",
      "        i = 0\n",
      "        while i < k and n % p[i] != 0:\n",
      "            i = i + 1\n",
      "        if i == k:\n",
      "            p[k] = n\n",
      "            k = k + 1\n",
      "            result.append(n)\n",
      "        n = n + 1\n",
      "    return result\n"
     ]
    }
   ],
   "source": [
    "%cat primes_vanilla.py"
   ]
  },
  {
   "cell_type": "markdown",
   "id": "df0fb7bd-3ae9-4e41-9986-39a41769628b",
   "metadata": {},
   "source": [
    "You can import the module and call the function using the `%timeit` magic to establish a baseline timning."
   ]
  },
  {
   "cell_type": "code",
   "execution_count": 2,
   "id": "9057c260-3897-4e18-8be0-d9c1a3085892",
   "metadata": {
    "tags": []
   },
   "outputs": [],
   "source": [
    "import primes_vanilla"
   ]
  },
  {
   "cell_type": "code",
   "execution_count": 3,
   "id": "a18ab705-dae5-47a0-bada-bcc857b921c9",
   "metadata": {
    "tags": []
   },
   "outputs": [
    {
     "name": "stdout",
     "output_type": "stream",
     "text": [
      "17.8 ms ± 104 µs per loop (mean ± std. dev. of 7 runs, 10 loops each)\n"
     ]
    }
   ],
   "source": [
    "%timeit primes_vanilla.primes(1000)"
   ]
  },
  {
   "cell_type": "markdown",
   "id": "88d2944f-0f05-4271-94eb-9edd5c602001",
   "metadata": {},
   "source": [
    "# Cython `.pyx` files"
   ]
  },
  {
   "cell_type": "markdown",
   "id": "4d062abf-fad1-459f-920e-acb6a8b73753",
   "metadata": {},
   "source": [
    "A first approach to speed up this computation is rewriting this function in Cython.  You can review the source code below."
   ]
  },
  {
   "cell_type": "code",
   "execution_count": 4,
   "id": "7fadfc46-11b6-40be-a541-f14e6fa1d995",
   "metadata": {
    "tags": []
   },
   "outputs": [
    {
     "name": "stdout",
     "output_type": "stream",
     "text": [
      "def primes(int kmax):\n",
      "    cdef int n, k, i\n",
      "    cdef int p[1000]\n",
      "    result = []\n",
      "    if kmax > 1000:\n",
      "        kmax = 1000\n",
      "    k = 0\n",
      "    n = 2\n",
      "    while k < kmax:\n",
      "        i = 0\n",
      "        while i < k and n % p[i] != 0:\n",
      "            i = i + 1\n",
      "        if i == k:\n",
      "            p[k] = n\n",
      "            k = k + 1\n",
      "            result.append(n)\n",
      "        n = n + 1\n",
      "    return result\n"
     ]
    }
   ],
   "source": [
    "%cat primes_cython.pyx"
   ]
  },
  {
   "cell_type": "markdown",
   "id": "784f09a9-c76c-4601-8250-0f66349683ed",
   "metadata": {},
   "source": [
    "As you can see, the only changes to the original function are\n",
    "* the declarations of the types for the function's argument,\n",
    "* the declaration of the type of the variables `n`, `k`, `i`, and\n",
    "* replacing the `p` Python array by a C array of `int`.\n",
    "\n",
    "This code first needs to be compiled before it can be run.  Fortunately, this can easily be done from a Jupyter notebook by using the `pyximport` module.  The `install` function will ensure that for `.pyx` files, the `import` defined by `pyximport` will be used.  We also specify the `language_level` to Python 3."
   ]
  },
  {
   "cell_type": "code",
   "execution_count": 5,
   "id": "333e6db5-da37-483a-8287-34b299ba2cd0",
   "metadata": {
    "tags": []
   },
   "outputs": [],
   "source": [
    "import pyximport\n",
    "pyximport.install(pyximport=True, pyimport=True, language_level='3str');"
   ]
  },
  {
   "cell_type": "markdown",
   "id": "3ef79c3b-e8d4-4a07-a361-02e6979dcd7a",
   "metadata": {},
   "source": [
    "Now you can import the Cython module that implements the `primes` function and time it for comparison with the vanilla Python implementation."
   ]
  },
  {
   "cell_type": "code",
   "execution_count": 6,
   "id": "70ae637a-6a45-4def-baa2-20eaabadc448",
   "metadata": {
    "tags": []
   },
   "outputs": [],
   "source": [
    "import primes_cython"
   ]
  },
  {
   "cell_type": "code",
   "execution_count": 7,
   "id": "9195d340-9a0f-41c1-a450-e4b66f155c05",
   "metadata": {
    "tags": []
   },
   "outputs": [
    {
     "name": "stdout",
     "output_type": "stream",
     "text": [
      "1.9 ms ± 2.25 µs per loop (mean ± std. dev. of 7 runs, 1,000 loops each)\n"
     ]
    }
   ],
   "source": [
    "%timeit primes_cython.primes(1000)"
   ]
  },
  {
   "cell_type": "markdown",
   "id": "2587cac1-4c24-4329-9a48-ad6f6b77202f",
   "metadata": {},
   "source": [
    "It is quite clear that the speedup is considerable for very little effort on your part."
   ]
  },
  {
   "cell_type": "markdown",
   "id": "9f083fc0-d5a1-4fdf-9889-407c26c7cd48",
   "metadata": {
    "tags": []
   },
   "source": [
    "# Pure Python & Cython"
   ]
  },
  {
   "cell_type": "markdown",
   "id": "99120581-7942-4949-8111-51aaeec6ee58",
   "metadata": {},
   "source": [
    "It is however also possible to use pure Python with type annotations to get a similar result."
   ]
  },
  {
   "cell_type": "code",
   "execution_count": 8,
   "id": "0785d966-aec8-4a7c-95bc-4f305109ae3b",
   "metadata": {
    "tags": []
   },
   "outputs": [
    {
     "name": "stdout",
     "output_type": "stream",
     "text": [
      "import cython\n",
      "\n",
      "def primes(nb_primes: cython.int):\n",
      "    i: cython.int\n",
      "    p: cython.int[1000]\n",
      "\n",
      "    if nb_primes > 1000:\n",
      "        nb_primes = 1000\n",
      "\n",
      "    if not cython.compiled:  # Only if regular Python is running\n",
      "        p = [0] * 1000       # Make p work almost like a C array\n",
      "\n",
      "    len_p: cython.int = 0  # The current number of elements in p.\n",
      "    n: cython.int = 2\n",
      "    while len_p < nb_primes:\n",
      "        # Is n prime?\n",
      "        for i in p[:len_p]:\n",
      "            if n % i == 0:\n",
      "                break\n",
      "\n",
      "        # If no break occurred in the loop, we have a prime.\n",
      "        else:\n",
      "            p[len_p] = n\n",
      "            len_p += 1\n",
      "        n += 1\n",
      "\n",
      "    # Let's copy the result into a Python list:\n",
      "    result_as_list = [prime for prime in p[:len_p]]\n",
      "    return result_as_list"
     ]
    }
   ],
   "source": [
    "%cat primes_pure_python.py"
   ]
  },
  {
   "cell_type": "markdown",
   "id": "a208daab-efa3-4d00-b327-8c71ce01591e",
   "metadata": {},
   "source": [
    "Note that\n",
    "* the `cython` module has to be imported,\n",
    "* the Cython types such as `cython.int` have to be specified, rather than `int`,\n",
    "* you can check whether the Python function has been compiled using `cython.compiled`."
   ]
  },
  {
   "cell_type": "code",
   "execution_count": 9,
   "id": "338d4447-e6c6-4335-8715-102c19fa5bf0",
   "metadata": {
    "tags": []
   },
   "outputs": [],
   "source": [
    "import primes_pure_python"
   ]
  },
  {
   "cell_type": "code",
   "execution_count": 10,
   "id": "a572342b-b458-463f-9b4f-9add15fabbf9",
   "metadata": {
    "tags": []
   },
   "outputs": [
    {
     "name": "stdout",
     "output_type": "stream",
     "text": [
      "1.9 ms ± 2.55 µs per loop (mean ± std. dev. of 7 runs, 1,000 loops each)\n"
     ]
    }
   ],
   "source": [
    "%timeit primes_pure_python.primes(1000)"
   ]
  },
  {
   "cell_type": "markdown",
   "id": "c1b1698a-e81d-4030-b3d7-1b39ba7e241c",
   "metadata": {},
   "source": [
    "The performance is almost identical to that of the `.pyx` file, and the code is pure Python."
   ]
  }
 ],
 "metadata": {
  "kernelspec": {
   "display_name": "Python 3 (ipykernel)",
   "language": "python",
   "name": "python3"
  },
  "language_info": {
   "codemirror_mode": {
    "name": "ipython",
    "version": 3
   },
   "file_extension": ".py",
   "mimetype": "text/x-python",
   "name": "python",
   "nbconvert_exporter": "python",
   "pygments_lexer": "ipython3",
   "version": "3.11.5"
  },
  "toc-autonumbering": true
 },
 "nbformat": 4,
 "nbformat_minor": 5
}

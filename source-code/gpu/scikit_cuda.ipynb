{
 "cells": [
  {
   "cell_type": "markdown",
   "id": "3928e326-8fc1-4252-a77a-5750f816c9d0",
   "metadata": {},
   "source": [
    "# Initialization"
   ]
  },
  {
   "cell_type": "markdown",
   "id": "21f26bbb-8dc3-4f57-9f09-81d6c67b9e61",
   "metadata": {},
   "source": [
    "The GPU can be initialized automatically by importing the `autoinit` module."
   ]
  },
  {
   "cell_type": "code",
   "execution_count": 1,
   "id": "f95a5430-cc82-4e33-9d25-066e558c87b8",
   "metadata": {},
   "outputs": [
    {
     "name": "stderr",
     "output_type": "stream",
     "text": [
      "/home/gjb/miniconda3/envs/cuda/lib/python3.9/site-packages/skcuda/cublas.py:284: UserWarning: creating CUBLAS context to get version number\n",
      "  warnings.warn('creating CUBLAS context to get version number')\n"
     ]
    }
   ],
   "source": [
    "import numpy as np\n",
    "import pycuda.autoinit\n",
    "from pycuda import gpuarray\n",
    "from skcuda import cublas\n",
    "import sys\n",
    "from time import time"
   ]
  },
  {
   "cell_type": "markdown",
   "id": "5e6de1c7-b630-4a6c-b170-794e72329952",
   "metadata": {},
   "source": [
    "# cuBLAS"
   ]
  },
  {
   "cell_type": "markdown",
   "id": "bd10aab2-764e-4791-b3a0-2e0cffc1bee8",
   "metadata": {},
   "source": [
    "The BLAS library supports\n",
    "\n",
    "* level 1: vector operations,\n",
    "* level 2: matrix-vector operations,\n",
    "* level 3: matrix-matrix operations.\n",
    "\n",
    "scikit-cuda provides bindings to NVIDIA's cuBLAS library.  It is interoperable with PyCUDA's `gpuarray` representation."
   ]
  },
  {
   "cell_type": "markdown",
   "id": "50a9af8c-6c01-4399-9fdc-2a395cf52747",
   "metadata": {},
   "source": [
    "## Creating a context"
   ]
  },
  {
   "cell_type": "markdown",
   "id": "66989ea6-3e92-4b4b-bc7f-299299bcd184",
   "metadata": {},
   "source": [
    "To perform cuBLAS computations, a context has to be instantiated.  The handler will be passed to all the wrapper functions that provide the BLAS operations."
   ]
  },
  {
   "cell_type": "code",
   "execution_count": 3,
   "id": "83a96116-4f7f-444e-a9f6-fd383f579023",
   "metadata": {},
   "outputs": [],
   "source": [
    "cublas_h = cublas.cublasCreate()"
   ]
  },
  {
   "cell_type": "markdown",
   "id": "d2bc6f5d-a47c-4ed8-b238-59fc0007056a",
   "metadata": {},
   "source": [
    "When the cuBLAS computations are done, the context should be destroyed."
   ]
  },
  {
   "cell_type": "markdown",
   "id": "b0fd206a-aa26-4068-bf76-64bde786fb9a",
   "metadata": {},
   "source": [
    "## Level 1: saxpy"
   ]
  },
  {
   "cell_type": "markdown",
   "id": "5acdeea7-e31a-4d79-b06b-46b784dda746",
   "metadata": {},
   "source": [
    "The saxpy operation scales a vector and adds a second vector to it, i.e.,\n",
    "$$\n",
    "    \\vec{y} = \\alpha \\vec{x} + \\vec{y}\n",
    "$$\n",
    "Note that the original vector $\\vec{y}$ is overwritten.\n",
    "\n",
    "We create the data to experiments with."
   ]
  },
  {
   "cell_type": "code",
   "execution_count": 4,
   "id": "425842ed-a6fc-4801-a50d-b573e6f204fb",
   "metadata": {},
   "outputs": [],
   "source": [
    "size = 1_000_000\n",
    "α = np.float32(3.1)\n",
    "x = np.float32(np.random.uniform(size=(size, )))\n",
    "y = np.float32(np.random.uniform(size=(size, )))"
   ]
  },
  {
   "cell_type": "code",
   "execution_count": 5,
   "id": "99f9b901-aacb-4ca8-9810-e68d7f6c2c41",
   "metadata": {},
   "outputs": [],
   "source": [
    "dev_x = gpuarray.to_gpu(x)\n",
    "dev_y = gpuarray.to_gpu(y)"
   ]
  },
  {
   "cell_type": "markdown",
   "id": "e5fa0c89-2eb7-469d-97f7-4c9572f9fb8a",
   "metadata": {},
   "source": [
    "The saxpy operation is called on the context handle, $\\alpha$ and both vectors are passed to it.  Note that `cublasSaxpy` expects the addresses of the data on the device.  The latter can be obtained from the GPU array using the `gpudata` attribute.  We also need to provide a stride for both the $x$ and $y$ vectors, which is 1 in our caes."
   ]
  },
  {
   "cell_type": "code",
   "execution_count": 6,
   "id": "f2ac414b-7151-41b8-9ea9-807f40951e59",
   "metadata": {},
   "outputs": [],
   "source": [
    "cublas.cublasSaxpy(cublas_h, dev_x.size, α, dev_x.gpudata, 1, dev_y.gpudata, 1)"
   ]
  },
  {
   "cell_type": "code",
   "execution_count": 7,
   "id": "43212b09-373a-46c8-8eeb-2e999e4f60cf",
   "metadata": {},
   "outputs": [],
   "source": [
    "y_result = dev_y.get()"
   ]
  },
  {
   "cell_type": "code",
   "execution_count": 8,
   "id": "a8a96af6-4e48-442d-b1b4-0daa8f7af790",
   "metadata": {},
   "outputs": [
    {
     "data": {
      "text/plain": [
       "True"
      ]
     },
     "execution_count": 8,
     "metadata": {},
     "output_type": "execute_result"
    }
   ],
   "source": [
    "np.allclose(y_result, α*x + y, rtol=1.0e-5)"
   ]
  },
  {
   "cell_type": "markdown",
   "id": "55013dde-c3f3-40c4-8eb1-9629d4bbccb0",
   "metadata": {},
   "source": [
    "## Destroying the context"
   ]
  },
  {
   "cell_type": "markdown",
   "id": "1c90754c-5115-45ae-a18f-0bf7734eb618",
   "metadata": {},
   "source": [
    "Once done, the context should be destroyed."
   ]
  },
  {
   "cell_type": "code",
   "execution_count": 9,
   "id": "36394010-16eb-4abc-83c7-32f18f096a7e",
   "metadata": {},
   "outputs": [],
   "source": [
    "cublas.cublasDestroy(cublas_h)"
   ]
  },
  {
   "cell_type": "markdown",
   "id": "35376c18-fc22-42c4-8aa2-3619d9142a0f",
   "metadata": {
    "tags": []
   },
   "source": [
    "## Level 3: sgemm"
   ]
  },
  {
   "cell_type": "code",
   "execution_count": 10,
   "id": "eacab99c-c424-4811-a6d9-d77c8fd6a360",
   "metadata": {},
   "outputs": [],
   "source": [
    "cublas_h = cublas.cublasCreate()"
   ]
  },
  {
   "cell_type": "markdown",
   "id": "430d31b1-d68c-4e98-a008-4cc6d66df89a",
   "metadata": {},
   "source": [
    "The sgemm operations multiplies and scales two matrices, and adds the result to a third matrix, i.e.,\n",
    "$$\n",
    "    C = \\alpha A \\cdot B + \\beta C\n",
    "$$\n",
    "We initialize the matrices and constants."
   ]
  },
  {
   "cell_type": "code",
   "execution_count": 11,
   "id": "9d908724-80fd-4ae4-b21d-a7d8439e09ef",
   "metadata": {},
   "outputs": [],
   "source": [
    "m, k, n = 2_000, 3_000, 4_000\n",
    "A = np.float32(np.random.uniform(size=(m, k)))\n",
    "B = np.float32(np.random.uniform(size=(k, n)))\n",
    "C = np.float32(np.random.uniform(size=(m, n)))\n",
    "α = np.float32(3.1)\n",
    "β = np.float32(0.7)"
   ]
  },
  {
   "cell_type": "markdown",
   "id": "fec0f0c1-51c1-43fd-94f6-c269c0a8b697",
   "metadata": {},
   "source": [
    "Note that the BLAS assumes that data is stored columnwise.  However, numpy by default stores matrices rowwise, so we transpose the matrices before transferring them to the device memory.  Also note that the data has to be copied after the transpose."
   ]
  },
  {
   "cell_type": "code",
   "execution_count": 12,
   "id": "08a0d0fc-bf8e-4d4f-9aed-cdceaa7fe11e",
   "metadata": {},
   "outputs": [],
   "source": [
    "dev_A = gpuarray.to_gpu(A.T.copy())\n",
    "dev_B = gpuarray.to_gpu(B.T.copy())\n",
    "dev_C = gpuarray.to_gpu(C.T.copy())"
   ]
  },
  {
   "cell_type": "markdown",
   "id": "eeb86970-22e1-4d27-b7d5-03ef375f1237",
   "metadata": {},
   "source": [
    "For an sgemm operation, the matrices $A$ and $B$ can be transposed, but we do not want to do that here, so `transA` and `transB` are set to `'N'`.  We also need to specify the leading dimension for each of the matrices, i.e., `lda`, `ldb`, `ldc`."
   ]
  },
  {
   "cell_type": "code",
   "execution_count": 13,
   "id": "8f81b7fd-3147-45a8-9e45-d2e99e7baa4a",
   "metadata": {},
   "outputs": [],
   "source": [
    "transA = cublas._CUBLAS_OP['N']\n",
    "transB = cublas._CUBLAS_OP['N']\n",
    "lda, ldb, ldc = m, k, m"
   ]
  },
  {
   "cell_type": "markdown",
   "id": "bac3efef-b5dd-4ea6-8eb0-94fa5cb6c71b",
   "metadata": {},
   "source": [
    "Now the sgemm operation can be performed."
   ]
  },
  {
   "cell_type": "code",
   "execution_count": 14,
   "id": "90df9d2e-c346-46d4-afef-1f3f69880ebf",
   "metadata": {},
   "outputs": [],
   "source": [
    "cublas.cublasSgemm(cublas_h, transA, transB, m, n, k, α, dev_A.gpudata, lda, dev_B.gpudata, ldb, β, dev_C.gpudata, ldc)"
   ]
  },
  {
   "cell_type": "markdown",
   "id": "78476a25-1d75-4edf-ba0b-ec1c4d9dcdaa",
   "metadata": {},
   "source": [
    "The result is the same as on the host."
   ]
  },
  {
   "cell_type": "code",
   "execution_count": 15,
   "id": "9474f557-b506-4be5-8464-0dd1d6f27a35",
   "metadata": {},
   "outputs": [
    {
     "data": {
      "text/plain": [
       "True"
      ]
     },
     "execution_count": 15,
     "metadata": {},
     "output_type": "execute_result"
    }
   ],
   "source": [
    "np.allclose(dev_C.get().T, α*np.dot(A, B) + β*C)"
   ]
  },
  {
   "cell_type": "code",
   "execution_count": 16,
   "id": "0e4103c4-bb2e-4142-bfc0-03c7c6137026",
   "metadata": {},
   "outputs": [],
   "source": [
    "cublas.cublasDestroy(cublas_h)"
   ]
  },
  {
   "cell_type": "markdown",
   "id": "194a7f3b-6cf3-488f-9434-8c11189f1b2c",
   "metadata": {},
   "source": [
    "## Matrix power"
   ]
  },
  {
   "cell_type": "markdown",
   "id": "6334054f-9f5e-4ee3-b936-2a8ba631687b",
   "metadata": {},
   "source": [
    "We want to compute the matrix power $A^p = A \\cdot \\cdots \\cdot A$ using the sgemm operation.  Since we have\n",
    "$$\n",
    "    C = \\alpha A \\cdot B + \\beta C\n",
    "$$\n",
    "we can compute the power of $A$ by iterating for $\\alpha = 1$ and $\\beta = 0$ and\n",
    "$$\n",
    "    B_{i+1} = A \\cdot B_i\n",
    "$$\n",
    "setting $B_1 = A$."
   ]
  },
  {
   "cell_type": "code",
   "execution_count": 24,
   "id": "f1864535-aafa-4a44-8cb7-9f088eaebc42",
   "metadata": {},
   "outputs": [],
   "source": [
    "p = 1_000\n",
    "m, k, n = 4_000, 4_000, 4_000\n",
    "A = np.float32(np.random.uniform(0.0, 1.0, size=(m, k)))\n",
    "α, β = np.float32(1.0), np.float32(0.0)"
   ]
  },
  {
   "cell_type": "code",
   "execution_count": 25,
   "id": "11a43d90-6ad1-4a8f-aa2a-db7323bea839",
   "metadata": {},
   "outputs": [],
   "source": [
    "transA = cublas._CUBLAS_OP['N']\n",
    "transB = cublas._CUBLAS_OP['N']\n",
    "lda, ldb, ldc = m, k,m"
   ]
  },
  {
   "cell_type": "code",
   "execution_count": 26,
   "id": "982bfdfb-b77c-4e26-8944-49fbdd0588c2",
   "metadata": {},
   "outputs": [
    {
     "name": "stdout",
     "output_type": "stream",
     "text": [
      "CPU times: user 17.8 s, sys: 19.1 ms, total: 17.8 s\n",
      "Wall time: 17.8 s\n"
     ]
    }
   ],
   "source": [
    "%%time\n",
    "cublas_h = cublas.cublasCreate()\n",
    "dev_A = gpuarray.to_gpu(A.copy().T)\n",
    "dev_B = gpuarray.to_gpu(A.copy().T)\n",
    "dev_C = gpuarray.empty_like(dev_A)\n",
    "start_time = time()\n",
    "for _ in range(p - 1):\n",
    "    cublas.cublasSgemm(cublas_h, transA, transB, m, n, k, α, dev_A.gpudata, lda, dev_B.gpudata, ldb, β, dev_C.gpudata, ldc)\n",
    "    dev_B = dev_C\n",
    "end_time = time()\n",
    "result = dev_B.get().copy().T\n",
    "cublas.cublasDestroy(cublas_h)"
   ]
  },
  {
   "cell_type": "code",
   "execution_count": 27,
   "id": "0b537f8c-9055-4062-a5e5-b2f08d11ed75",
   "metadata": {},
   "outputs": [
    {
     "data": {
      "text/plain": [
       "0.03950810432434082"
      ]
     },
     "execution_count": 27,
     "metadata": {},
     "output_type": "execute_result"
    }
   ],
   "source": [
    "end_time - start_time"
   ]
  },
  {
   "cell_type": "code",
   "execution_count": 28,
   "id": "d7ec2e35-a2d6-4e2f-b81d-bc8244bf5259",
   "metadata": {},
   "outputs": [
    {
     "name": "stdout",
     "output_type": "stream",
     "text": [
      "CPU times: user 40.6 s, sys: 7.34 s, total: 47.9 s\n",
      "Wall time: 3 s\n"
     ]
    }
   ],
   "source": [
    "%%time\n",
    "host_result = np.linalg.matrix_power(A, p)"
   ]
  },
  {
   "cell_type": "code",
   "execution_count": 29,
   "id": "0ecc616e-2be8-485a-8e79-681c609d1aec",
   "metadata": {},
   "outputs": [
    {
     "data": {
      "text/plain": [
       "True"
      ]
     },
     "execution_count": 29,
     "metadata": {},
     "output_type": "execute_result"
    }
   ],
   "source": [
    "np.allclose(result, host_result)"
   ]
  },
  {
   "cell_type": "markdown",
   "id": "89d7ce40-e25b-4f7c-ae7a-3e67b580486c",
   "metadata": {},
   "source": [
    "### Benchmarking"
   ]
  },
  {
   "cell_type": "code",
   "execution_count": 2,
   "id": "79087024-662b-4b86-9acd-ebc69d11cbaf",
   "metadata": {},
   "outputs": [
    {
     "name": "stdout",
     "output_type": "stream",
     "text": [
      "starting p = 10, size = 100\n",
      "starting p = 10, size = 200\n",
      "starting p = 10, size = 500\n",
      "starting p = 10, size = 1000\n",
      "starting p = 10, size = 2000\n"
     ]
    },
    {
     "name": "stderr",
     "output_type": "stream",
     "text": [
      "not equal for 10, 1000\n",
      "not equal for 10, 2000\n"
     ]
    },
    {
     "name": "stdout",
     "output_type": "stream",
     "text": [
      "starting p = 10, size = 5000\n"
     ]
    },
    {
     "name": "stderr",
     "output_type": "stream",
     "text": [
      "not equal for 10, 5000\n",
      "/home/gjb/miniconda3/envs/cuda/lib/python3.9/site-packages/numpy/linalg/linalg.py:661: RuntimeWarning: overflow encountered in matmul\n",
      "  z = a if z is None else fmatmul(z, z)\n",
      "/home/gjb/miniconda3/envs/cuda/lib/python3.9/site-packages/numpy/linalg/linalg.py:664: RuntimeWarning: invalid value encountered in matmul\n",
      "  result = z if result is None else fmatmul(result, z)\n",
      "/home/gjb/miniconda3/envs/cuda/lib/python3.9/site-packages/numpy/linalg/linalg.py:661: RuntimeWarning: invalid value encountered in matmul\n",
      "  z = a if z is None else fmatmul(z, z)\n"
     ]
    },
    {
     "name": "stdout",
     "output_type": "stream",
     "text": [
      "starting p = 100, size = 100\n",
      "starting p = 100, size = 200\n",
      "starting p = 100, size = 500\n",
      "starting p = 100, size = 1000\n",
      "starting p = 100, size = 2000\n",
      "starting p = 100, size = 5000\n",
      "starting p = 1000, size = 100\n",
      "starting p = 1000, size = 200\n",
      "starting p = 1000, size = 500\n",
      "starting p = 1000, size = 1000\n",
      "starting p = 1000, size = 2000\n",
      "starting p = 1000, size = 5000\n",
      "starting p = 10000, size = 100\n",
      "starting p = 10000, size = 200\n",
      "starting p = 10000, size = 500\n",
      "starting p = 10000, size = 1000\n",
      "starting p = 10000, size = 2000\n",
      "starting p = 10000, size = 5000\n"
     ]
    }
   ],
   "source": [
    "p_values = [10, 100, 1_000, 10_000]\n",
    "size_values = [100, 200, 500, 1_000, 2_000, 5_000]\n",
    "α, β = np.float32(1.0), np.float32(0.0)\n",
    "transA = cublas._CUBLAS_OP['N']\n",
    "transB = cublas._CUBLAS_OP['N']\n",
    "cublas_h = cublas.cublasCreate()\n",
    "dev_time = np.empty((len(p_values), len(size_values)))\n",
    "dev_comp_time = np.empty((len(p_values), len(size_values)))\n",
    "host_comp_time = np.empty((len(p_values), len(size_values)))\n",
    "for i_p, p in enumerate(p_values):\n",
    "    for i_size, size in enumerate(size_values):\n",
    "        print(f'starting p = {p}, size = {size}')\n",
    "        m, k, n = size, size, size\n",
    "        A = np.float32(np.random.uniform(0.0, 1.0, size=(m, k)))\n",
    "        lda, ldb, ldc = m, k, m\n",
    "        dev_start_time = time()\n",
    "        dev_A = gpuarray.to_gpu(A.copy().T)\n",
    "        dev_B = gpuarray.to_gpu(A.copy().T)\n",
    "        dev_C = gpuarray.empty_like(dev_A)\n",
    "        dev_start_comp_time = time()\n",
    "        for _ in range(p - 1):\n",
    "            cublas.cublasSgemm(cublas_h, transA, transB, m, n, k, α, dev_A.gpudata, lda, dev_B.gpudata, ldb, β, dev_C.gpudata, ldc)\n",
    "            dev_B = dev_C\n",
    "        end_time = time()\n",
    "        result = dev_B.get().copy().T\n",
    "        dev_end_comp_time = time()\n",
    "        dev_end_time = time()\n",
    "        dev_time[i_p, i_size] = dev_end_time - dev_start_time\n",
    "        dev_comp_time[i_p, i_size] = dev_end_comp_time - dev_start_comp_time\n",
    "        host_start_comp_time = time()\n",
    "        host_result = np.linalg.matrix_power(A, p)\n",
    "        host_end_comp_time = time()\n",
    "        host_comp_time[i_p, i_size] = host_end_comp_time - host_start_comp_time\n",
    "        if not np.allclose(result, host_result):\n",
    "            print(f'not equal for {p}, {size}', file=sys.stderr)\n",
    "cublas.cublasDestroy(cublas_h)"
   ]
  },
  {
   "cell_type": "code",
   "execution_count": 3,
   "id": "8096a8f9-2260-45f2-9d60-d64a35f1d5e2",
   "metadata": {},
   "outputs": [
    {
     "data": {
      "text/plain": [
       "array([[1.07288361e-02, 1.30517483e-02, 5.44724464e-02, 3.40552330e-02,\n",
       "        1.51504278e-01, 1.60136175e+00],\n",
       "       [8.78953934e-03, 2.12025642e-03, 2.43089199e-02, 1.26446247e-01,\n",
       "        4.27002430e-01, 3.55468321e+00],\n",
       "       [4.15921211e-03, 4.21645641e-02, 1.37926102e-01, 3.03728342e-01,\n",
       "        9.36742544e-01, 5.39860249e+00],\n",
       "       [1.43671036e-03, 2.12764740e-03, 1.63109303e-02, 1.11539602e-01,\n",
       "        6.37586355e-01, 6.56140661e+00]])"
      ]
     },
     "execution_count": 3,
     "metadata": {},
     "output_type": "execute_result"
    }
   ],
   "source": [
    "host_comp_time"
   ]
  },
  {
   "cell_type": "code",
   "execution_count": 4,
   "id": "af889569-7a2c-422a-88d2-2999f825da02",
   "metadata": {},
   "outputs": [
    {
     "data": {
      "text/plain": [
       "array([[6.03675842e-04, 8.99076462e-04, 1.65820122e-03, 6.42848015e-03,\n",
       "        3.89833450e-02, 5.29721737e-01],\n",
       "       [1.94239616e-03, 2.11763382e-03, 6.47735596e-03, 4.05559540e-02,\n",
       "        2.73972034e-01, 3.61101055e+00],\n",
       "       [1.74765587e-02, 7.97739029e-02, 5.82485199e-02, 3.34474325e-01,\n",
       "        2.29343367e+00, 3.48084452e+01],\n",
       "       [1.70212984e-01, 1.55580997e-01, 4.42224264e-01, 3.10729861e+00,\n",
       "        2.33812053e+01, 3.53068779e+02]])"
      ]
     },
     "execution_count": 4,
     "metadata": {},
     "output_type": "execute_result"
    }
   ],
   "source": [
    "dev_comp_time"
   ]
  },
  {
   "cell_type": "code",
   "execution_count": 5,
   "id": "4c7f0db4-5d11-4d75-8b8f-82429747f106",
   "metadata": {},
   "outputs": [
    {
     "data": {
      "text/plain": [
       "array([[4.32896614e-03, 2.20060349e-03, 7.27701187e-03, 1.08642578e-02,\n",
       "        5.36551476e-02, 5.99342346e-01],\n",
       "       [6.13522530e-03, 2.62570381e-03, 8.02016258e-03, 4.95145321e-02,\n",
       "        2.92020559e-01, 3.67820096e+00],\n",
       "       [2.10342407e-02, 8.08649063e-02, 6.34791851e-02, 3.38699102e-01,\n",
       "        2.31347179e+00, 3.48757985e+01],\n",
       "       [1.74494505e-01, 1.62458181e-01, 4.45505857e-01, 3.11164284e+00,\n",
       "        2.33960242e+01, 3.53136671e+02]])"
      ]
     },
     "execution_count": 5,
     "metadata": {},
     "output_type": "execute_result"
    }
   ],
   "source": [
    "dev_time"
   ]
  }
 ],
 "metadata": {
  "kernelspec": {
   "display_name": "Python 3 (ipykernel)",
   "language": "python",
   "name": "python3"
  },
  "language_info": {
   "codemirror_mode": {
    "name": "ipython",
    "version": 3
   },
   "file_extension": ".py",
   "mimetype": "text/x-python",
   "name": "python",
   "nbconvert_exporter": "python",
   "pygments_lexer": "ipython3",
   "version": "3.9.7"
  }
 },
 "nbformat": 4,
 "nbformat_minor": 5
}

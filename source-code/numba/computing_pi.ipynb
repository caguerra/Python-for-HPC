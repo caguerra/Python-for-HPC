{
 "cells": [
  {
   "cell_type": "markdown",
   "id": "dad1f0e2-bc13-4d67-b40e-e5f8946e7e6f",
   "metadata": {},
   "source": [
    "# Requirements"
   ]
  },
  {
   "cell_type": "code",
   "execution_count": 1,
   "id": "694413b5-380c-4239-8bce-09b90df7fe79",
   "metadata": {},
   "outputs": [],
   "source": [
    "from numba import njit\n",
    "import numpy as np\n",
    "import random"
   ]
  },
  {
   "cell_type": "markdown",
   "id": "aee5369d-7b69-4fb4-8567-52bd8e92571b",
   "metadata": {},
   "source": [
    "# Random $\\pi$"
   ]
  },
  {
   "cell_type": "markdown",
   "id": "70202ae4-ad82-4c91-aea0-a3aeccfb7bdc",
   "metadata": {},
   "source": [
    "Compute $\\pi$ by generating random points in a square and counting how many there are in the circle inscribed in the square."
   ]
  },
  {
   "cell_type": "code",
   "execution_count": 2,
   "id": "b5f095c0-58f6-4098-829c-6e696ae2a2bd",
   "metadata": {},
   "outputs": [],
   "source": [
    "def compute_pi(nr_tries):\n",
    "    hits = 0\n",
    "    for _ in range(nr_tries):\n",
    "        x = random.random()\n",
    "        y = random.random()\n",
    "        if x**2 + y**2 < 1.0:\n",
    "            hits += 1\n",
    "    return 4.0*hits/nr_tries"
   ]
  },
  {
   "cell_type": "code",
   "execution_count": 3,
   "id": "805f4c9f-5d19-486a-988e-bf103683c37c",
   "metadata": {},
   "outputs": [],
   "source": [
    "@njit\n",
    "def compute_pi_jit(nr_tries):\n",
    "    hits = 0\n",
    "    for _ in range(nr_tries):\n",
    "        x = random.random()\n",
    "        y = random.random()\n",
    "        if x**2 + y**2 < 1.0:\n",
    "            hits += 1\n",
    "    return 4.0*hits/nr_tries"
   ]
  },
  {
   "cell_type": "code",
   "execution_count": 4,
   "id": "f7a7bb7e-6ad1-4b6d-bb5b-d99ebedf7991",
   "metadata": {},
   "outputs": [],
   "source": [
    "@njit(['float64(int64)'])\n",
    "def compute_pi_jit_sign(nr_tries):\n",
    "    hits = 0\n",
    "    for _ in range(nr_tries):\n",
    "        x = random.random()\n",
    "        y = random.random()\n",
    "        if x**2 + y**2 < 1.0:\n",
    "            hits += 1\n",
    "    return 4.0*hits/nr_tries"
   ]
  },
  {
   "cell_type": "code",
   "execution_count": 5,
   "id": "13f3c23d-674e-43b2-b503-a83c20cf5075",
   "metadata": {},
   "outputs": [
    {
     "name": "stdout",
     "output_type": "stream",
     "text": [
      "16.5 ms ± 1.19 ms per loop (mean ± std. dev. of 7 runs, 100 loops each)\n"
     ]
    }
   ],
   "source": [
    "%timeit compute_pi(100_000)"
   ]
  },
  {
   "cell_type": "code",
   "execution_count": 6,
   "id": "de965fa5-b3e3-4548-8d41-661baf6abe65",
   "metadata": {},
   "outputs": [
    {
     "name": "stdout",
     "output_type": "stream",
     "text": [
      "720 µs ± 10.4 µs per loop (mean ± std. dev. of 7 runs, 1,000 loops each)\n"
     ]
    }
   ],
   "source": [
    "%timeit compute_pi_jit(100_000)"
   ]
  },
  {
   "cell_type": "code",
   "execution_count": 7,
   "id": "f240d35d-2fdb-45db-9e59-d392887c9a16",
   "metadata": {},
   "outputs": [
    {
     "name": "stdout",
     "output_type": "stream",
     "text": [
      "733 µs ± 9.4 µs per loop (mean ± std. dev. of 7 runs, 1,000 loops each)\n"
     ]
    }
   ],
   "source": [
    "%timeit compute_pi_jit_sign(np.int64(100_000))"
   ]
  },
  {
   "cell_type": "markdown",
   "id": "da96c2f7-afc2-4122-ad80-62d7c57272e9",
   "metadata": {},
   "source": [
    "Using numba's just-in-time compiler significantly speeds up the computations."
   ]
  }
 ],
 "metadata": {
  "kernelspec": {
   "display_name": "Python 3 (ipykernel)",
   "language": "python",
   "name": "python3"
  },
  "language_info": {
   "codemirror_mode": {
    "name": "ipython",
    "version": 3
   },
   "file_extension": ".py",
   "mimetype": "text/x-python",
   "name": "python",
   "nbconvert_exporter": "python",
   "pygments_lexer": "ipython3",
   "version": "3.11.5"
  }
 },
 "nbformat": 4,
 "nbformat_minor": 5
}

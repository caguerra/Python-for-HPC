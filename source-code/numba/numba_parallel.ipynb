{
 "cells": [
  {
   "cell_type": "markdown",
   "id": "647ec939-d34d-4a92-8a8d-60e0078fee69",
   "metadata": {},
   "source": [
    "# Requirements"
   ]
  },
  {
   "cell_type": "code",
   "execution_count": 20,
   "id": "98749cd7-43b1-45b4-8ad8-c68006996d22",
   "metadata": {
    "tags": []
   },
   "outputs": [],
   "source": [
    "from numba import config, njit, threading_layer, prange\n",
    "import numpy as np\n",
    "import random"
   ]
  },
  {
   "cell_type": "markdown",
   "id": "1c79e332-5fb5-4103-8a02-74ef83972464",
   "metadata": {},
   "source": [
    "Compute $\\pi$ by generating random points in a square and counting how many there are in the circle inscribed in the square."
   ]
  },
  {
   "cell_type": "code",
   "execution_count": 2,
   "id": "75bbae32-14d6-44f4-b83d-3dda129355d2",
   "metadata": {
    "tags": []
   },
   "outputs": [],
   "source": [
    "def compute_pi(nr_tries):\n",
    "    hits = 0\n",
    "    for _ in range(nr_tries):\n",
    "        x = random.random()\n",
    "        y = random.random()\n",
    "        if x**2 + y**2 < 1.0:\n",
    "            hits += 1\n",
    "    return 4.0*hits/nr_tries"
   ]
  },
  {
   "cell_type": "code",
   "execution_count": 3,
   "id": "f96298c8-d477-4da6-a19f-0de852c81329",
   "metadata": {
    "tags": []
   },
   "outputs": [],
   "source": [
    "@njit\n",
    "def compute_pi_jit(nr_tries):\n",
    "    hits = 0\n",
    "    for _ in range(nr_tries):\n",
    "        x = random.random()\n",
    "        y = random.random()\n",
    "        if x**2 + y**2 < 1.0:\n",
    "            hits += 1\n",
    "    return 4.0*hits/nr_tries"
   ]
  },
  {
   "cell_type": "code",
   "execution_count": 4,
   "id": "a0d922f3-13ba-4c6d-beeb-c8292b1baf67",
   "metadata": {
    "tags": []
   },
   "outputs": [],
   "source": [
    "@njit(['float64(int64)'])\n",
    "def compute_pi_jit_sign(nr_tries):\n",
    "    hits = 0\n",
    "    for _ in range(nr_tries):\n",
    "        x = random.random()\n",
    "        y = random.random()\n",
    "        if x**2 + y**2 < 1.0:\n",
    "            hits += 1\n",
    "    return 4.0*hits/nr_tries"
   ]
  },
  {
   "cell_type": "code",
   "execution_count": 21,
   "id": "e46d10ad-60f1-409e-85ba-e02216ada657",
   "metadata": {
    "tags": []
   },
   "outputs": [],
   "source": [
    "@njit(parallel=True)\n",
    "def compute_pi_parallel(nr_tries):\n",
    "    hits = 0\n",
    "    for _ in prange(nr_tries):\n",
    "        x = random.random()\n",
    "        y = random.random()\n",
    "        if x**2 + y**2 < 1.0:\n",
    "            hits += 1\n",
    "    return 4.0*hits/nr_tries"
   ]
  },
  {
   "cell_type": "code",
   "execution_count": 5,
   "id": "b830e45b-bc46-42f6-9b40-2f636c9989cd",
   "metadata": {
    "tags": []
   },
   "outputs": [
    {
     "name": "stdout",
     "output_type": "stream",
     "text": [
      "13.5 ms ± 204 µs per loop (mean ± std. dev. of 7 runs, 100 loops each)\n"
     ]
    }
   ],
   "source": [
    "%timeit compute_pi(100_000)"
   ]
  },
  {
   "cell_type": "code",
   "execution_count": 6,
   "id": "b98f5c18-a5fb-468c-8f96-ca25782ebac8",
   "metadata": {
    "tags": []
   },
   "outputs": [
    {
     "name": "stdout",
     "output_type": "stream",
     "text": [
      "634 µs ± 10.3 µs per loop (mean ± std. dev. of 7 runs, 1,000 loops each)\n"
     ]
    }
   ],
   "source": [
    "%timeit compute_pi_jit(100_000)"
   ]
  },
  {
   "cell_type": "code",
   "execution_count": 7,
   "id": "78c37a87-dd0c-49c6-ac8d-85e6f21832c2",
   "metadata": {
    "tags": []
   },
   "outputs": [
    {
     "name": "stdout",
     "output_type": "stream",
     "text": [
      "628 µs ± 5.3 µs per loop (mean ± std. dev. of 7 runs, 1,000 loops each)\n"
     ]
    }
   ],
   "source": [
    "%timeit compute_pi_jit_sign(np.int64(100_000))"
   ]
  },
  {
   "cell_type": "code",
   "execution_count": 23,
   "id": "451dcf30-5859-4612-9f9d-285eb00fdda6",
   "metadata": {
    "tags": []
   },
   "outputs": [
    {
     "name": "stdout",
     "output_type": "stream",
     "text": [
      "94.6 µs ± 1.59 µs per loop (mean ± std. dev. of 7 runs, 10,000 loops each)\n"
     ]
    }
   ],
   "source": [
    "%timeit compute_pi_parallel(100_000)"
   ]
  },
  {
   "cell_type": "markdown",
   "id": "18e84532-48d9-4aa0-8218-709888e3162e",
   "metadata": {},
   "source": [
    "Using numba's just-in-time compiler significantly speeds up the computations."
   ]
  },
  {
   "cell_type": "markdown",
   "id": "8fc275a6-8ac6-4481-beed-41896c5b39e9",
   "metadata": {},
   "source": [
    "# Quadrature $\\pi$"
   ]
  },
  {
   "cell_type": "markdown",
   "id": "32312a15-8070-4a8a-a198-170252d8efde",
   "metadata": {},
   "source": [
    "We will use the following method to compute $\\pi$: the definite integral\n",
    "$$\n",
    "  \\pi = 2 \\int_{-1}^{1} \\sqrt{1 - x^2} dx\n",
    "$$"
   ]
  },
  {
   "cell_type": "code",
   "execution_count": 8,
   "id": "17597694-cb80-4e2a-aa4c-c4c9e6d6de84",
   "metadata": {
    "tags": []
   },
   "outputs": [],
   "source": [
    "@njit\n",
    "def quad_pi_jit(nr_steps):\n",
    "    delta = 2.0/nr_steps\n",
    "    x = np.linspace(-1.0, 1.0, nr_steps)\n",
    "    f = np.empty_like(x)\n",
    "    for i in range(x.size):\n",
    "        f[i] = np.sqrt(1.0 - x[i]**2)\n",
    "    return 2.0*f.sum()*delta"
   ]
  },
  {
   "cell_type": "markdown",
   "id": "89b96c0e-78bf-4d89-b962-a3dd1cc9e92a",
   "metadata": {},
   "source": [
    "We can implement this so that the loop can be parallelized (numba cannot deal with reductions)."
   ]
  },
  {
   "cell_type": "code",
   "execution_count": 9,
   "id": "3006cada-b6f0-4119-8c10-fc1235ff85cd",
   "metadata": {
    "tags": []
   },
   "outputs": [],
   "source": [
    "config.THREADING_LAYER = 'omp'"
   ]
  },
  {
   "cell_type": "code",
   "execution_count": 24,
   "id": "39a14289-55a9-4775-b902-3d1f1b7f58ec",
   "metadata": {
    "tags": []
   },
   "outputs": [],
   "source": [
    "@njit(parallel=True)\n",
    "def quad_pi_omp(nr_steps):\n",
    "    delta = 2.0/nr_steps\n",
    "    x = np.linspace(-1.0, 1.0, nr_steps)\n",
    "    f = np.empty_like(x)\n",
    "    for i in prange(x.size):\n",
    "        f[i] = np.sqrt(1.0 - x[i]**2)\n",
    "    return 2.0*f.sum()*delta"
   ]
  },
  {
   "cell_type": "markdown",
   "id": "4ea90942-284e-454d-a750-bd9d08ff057e",
   "metadata": {},
   "source": [
    "The pure numpy implementation for comparison."
   ]
  },
  {
   "cell_type": "code",
   "execution_count": 25,
   "id": "2492cd21-68d8-4b9a-9a0b-656cfb2c9e2d",
   "metadata": {
    "tags": []
   },
   "outputs": [
    {
     "name": "stdout",
     "output_type": "stream",
     "text": [
      "387 ms ± 32.1 ms per loop (mean ± std. dev. of 7 runs, 1 loop each)\n"
     ]
    }
   ],
   "source": [
    "%timeit quad_pi_jit(100_000_000)"
   ]
  },
  {
   "cell_type": "code",
   "execution_count": 33,
   "id": "2acb30d2-92cf-4082-8572-675b7694747b",
   "metadata": {
    "tags": []
   },
   "outputs": [
    {
     "name": "stdout",
     "output_type": "stream",
     "text": [
      "334 ms ± 23.3 ms per loop (mean ± std. dev. of 7 runs, 1 loop each)\n"
     ]
    }
   ],
   "source": [
    "%timeit quad_pi_omp(100_000_000)"
   ]
  },
  {
   "cell_type": "markdown",
   "id": "a402e83f-ccb7-4518-b8de-b14e499f994a",
   "metadata": {},
   "source": [
    "The parallized version is faster, but the parallel efficiency is far from great."
   ]
  },
  {
   "cell_type": "code",
   "execution_count": 34,
   "id": "63a77e64-86ed-4df1-bc24-e25f88345c3b",
   "metadata": {
    "tags": []
   },
   "outputs": [
    {
     "data": {
      "text/plain": [
       "'omp'"
      ]
     },
     "execution_count": 34,
     "metadata": {},
     "output_type": "execute_result"
    }
   ],
   "source": [
    "threading_layer()"
   ]
  },
  {
   "cell_type": "code",
   "execution_count": 35,
   "id": "751b6a8c-aa7b-4686-808b-a9b9c5c2cf19",
   "metadata": {
    "tags": []
   },
   "outputs": [],
   "source": [
    "config.THREADING_LAYER = 'tbb'"
   ]
  },
  {
   "cell_type": "code",
   "execution_count": 36,
   "id": "dc6e5629-8d8a-478c-99aa-eda4b8010973",
   "metadata": {
    "tags": []
   },
   "outputs": [],
   "source": [
    "@njit(parallel=True)\n",
    "def quad_pi_tbb(nr_steps):\n",
    "    delta = 2.0/nr_steps\n",
    "    x = np.linspace(-1.0, 1.0, nr_steps)\n",
    "    f = np.empty_like(x)\n",
    "    for i in prange(x.size):\n",
    "        f[i] = np.sqrt(1.0 - x[i]**2)\n",
    "    return 2.0*f.sum()*delta"
   ]
  },
  {
   "cell_type": "code",
   "execution_count": 37,
   "id": "e20077d2-36c4-4f7d-862b-7500499f5e5a",
   "metadata": {
    "tags": []
   },
   "outputs": [
    {
     "name": "stdout",
     "output_type": "stream",
     "text": [
      "334 ms ± 10.4 ms per loop (mean ± std. dev. of 7 runs, 1 loop each)\n"
     ]
    }
   ],
   "source": [
    "%timeit quad_pi_tbb(100_000_000)"
   ]
  },
  {
   "cell_type": "code",
   "execution_count": 38,
   "id": "26832787-c6d8-456b-b19b-6e6fffab2fb0",
   "metadata": {
    "tags": []
   },
   "outputs": [
    {
     "data": {
      "text/plain": [
       "'omp'"
      ]
     },
     "execution_count": 38,
     "metadata": {},
     "output_type": "execute_result"
    }
   ],
   "source": [
    "threading_layer()"
   ]
  },
  {
   "cell_type": "markdown",
   "id": "f506897b-1341-414a-bcb3-7364a7eb46af",
   "metadata": {},
   "source": [
    "It is somewhat disconcerting that the threading layer seems to be OpenMP only."
   ]
  }
 ],
 "metadata": {
  "kernelspec": {
   "display_name": "Python 3 (ipykernel)",
   "language": "python",
   "name": "python3"
  },
  "language_info": {
   "codemirror_mode": {
    "name": "ipython",
    "version": 3
   },
   "file_extension": ".py",
   "mimetype": "text/x-python",
   "name": "python",
   "nbconvert_exporter": "python",
   "pygments_lexer": "ipython3",
   "version": "3.11.5"
  }
 },
 "nbformat": 4,
 "nbformat_minor": 5
}

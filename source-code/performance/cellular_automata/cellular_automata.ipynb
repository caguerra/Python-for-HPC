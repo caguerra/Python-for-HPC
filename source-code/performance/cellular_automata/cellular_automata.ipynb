{
 "cells": [
  {
   "cell_type": "markdown",
   "id": "1dc48565",
   "metadata": {},
   "source": [
    "# Requirements"
   ]
  },
  {
   "cell_type": "code",
   "execution_count": null,
   "id": "3db944d1",
   "metadata": {},
   "outputs": [],
   "source": [
    "import matplotlib.pyplot as plt\n",
    "import random\n",
    "%matplotlib inline"
   ]
  },
  {
   "cell_type": "code",
   "execution_count": null,
   "id": "6dc95285-4d54-4950-84fa-7884ad25f27c",
   "metadata": {},
   "outputs": [],
   "source": [
    "%load_ext line_profiler"
   ]
  },
  {
   "cell_type": "markdown",
   "id": "cff1935c",
   "metadata": {},
   "source": [
    "# Pure Python implementation"
   ]
  },
  {
   "cell_type": "markdown",
   "id": "cb3ed117-f20e-4fba-98a8-b9504d6516e7",
   "metadata": {},
   "source": [
    "## Implementation"
   ]
  },
  {
   "cell_type": "markdown",
   "id": "83bd154f",
   "metadata": {},
   "source": [
    "First we define a class to evolve the cellular autotomaton.  A runner is created for a specific rule, specified by a number between 0 and 255.  For instance, rule 47 would translate to:\n",
    "* $000 \\mapsto 1$\n",
    "* $001 \\mapsto 1$\n",
    "* $010 \\mapsto 1$\n",
    "* $011 \\mapsto 1$\n",
    "* $100 \\mapsto 0$\n",
    "* $101 \\mapsto 1$\n",
    "* $110 \\mapsto 0$\n",
    "* $111 \\mapsto 0$"
   ]
  },
  {
   "cell_type": "code",
   "execution_count": null,
   "id": "8a9f4acc",
   "metadata": {},
   "outputs": [],
   "source": [
    "class AutomatonRunner:\n",
    "    \n",
    "    def __init__(self, rule_nr):\n",
    "        self._rules = []\n",
    "        for _ in range(8):\n",
    "            self._rules.append(rule_nr % 2)\n",
    "            rule_nr //= 2\n",
    "    \n",
    "    def random_automaton(self, nr_cells, seed=None):\n",
    "        if seed is not None:\n",
    "            random.seed(seed)\n",
    "        return random.choices((0, 1), k=nr_cells)\n",
    "    \n",
    "    def _next_generation(self, automaton):\n",
    "        idx = (automaton[-1] << 2) | (automaton[0] << 1) | automaton[1]\n",
    "        ng_automaton = [self._rules[idx]]\n",
    "        for i in range(1, len(automaton) - 1):\n",
    "            idx = (automaton[i - 1] << 2) | (automaton[i] << 1) | automaton[i + 1]\n",
    "            ng_automaton.append(self._rules[idx])\n",
    "        idx = (automaton[-2] << 2) | (automaton[-1] << 1) | automaton[0]\n",
    "        ng_automaton.append(self._rules[idx])\n",
    "        return ng_automaton\n",
    "                                \n",
    "    def evolve(self, automaton, nr_generations, handler):\n",
    "        if not handler(automaton): return\n",
    "        for _ in range(nr_generations):\n",
    "            automaton = self._next_generation(automaton)\n",
    "            if not handler(automaton): return\n",
    "    \n",
    "    def evolve_random(self, nr_cells, nr_generations, handler, seed=None):\n",
    "        automaton = self.random_automaton(nr_cells, seed)\n",
    "        self.evolve(automaton, nr_generations, handler)\n",
    "        \n",
    "    def __str__(self):\n",
    "        auto_str = ''\n",
    "        for i, result in enumerate(self._rules):\n",
    "            auto_str += f'{i//4 % 2}{i//2 % 2}{i % 2} -> {result}\\n'\n",
    "        return auto_str"
   ]
  },
  {
   "cell_type": "markdown",
   "id": "1fb935e0",
   "metadata": {},
   "source": [
    "To verify the implementation, we check whether the rules have been created correctly."
   ]
  },
  {
   "cell_type": "code",
   "execution_count": null,
   "id": "bb1f302f",
   "metadata": {},
   "outputs": [],
   "source": [
    "runner = AutomatonRunner(47)"
   ]
  },
  {
   "cell_type": "code",
   "execution_count": null,
   "id": "6b715aca",
   "metadata": {},
   "outputs": [],
   "source": [
    "print(str(runner))"
   ]
  },
  {
   "cell_type": "markdown",
   "id": "6e888190-827e-48c8-ad34-b0e12e42907b",
   "metadata": {},
   "source": [
    "## Handlers"
   ]
  },
  {
   "cell_type": "markdown",
   "id": "eb9dd983-54c3-4d2c-b702-b90161c6f982",
   "metadata": {},
   "source": [
    "We define two handlers, one for benchmarking purposes that does nothing, the other gathers the successive generations into a list."
   ]
  },
  {
   "cell_type": "code",
   "execution_count": null,
   "id": "bb0d908c-9535-425f-8b13-d08a4ce8eeeb",
   "metadata": {},
   "outputs": [],
   "source": [
    "def do_nothing_handler(automaton):\n",
    "    return True"
   ]
  },
  {
   "cell_type": "code",
   "execution_count": null,
   "id": "a088710f-c18a-4e76-971b-2a2deaf1a57f",
   "metadata": {},
   "outputs": [],
   "source": [
    "class GenerationsHandler:\n",
    "    \n",
    "    def __init__(self):\n",
    "        self._generations = []\n",
    "        \n",
    "    def __call__(self, automaton):\n",
    "        self._generations.append(automaton)\n",
    "        return True\n",
    "        \n",
    "    @property\n",
    "    def generations(self):\n",
    "        return self._generations\n",
    "    \n",
    "    def visualize(self):\n",
    "        plt.imshow(self._generations);"
   ]
  },
  {
   "cell_type": "markdown",
   "id": "a9468158",
   "metadata": {},
   "source": [
    "## Running an automaton"
   ]
  },
  {
   "cell_type": "code",
   "execution_count": null,
   "id": "f543f74a-7029-49e3-a492-e441f1727c7a",
   "metadata": {},
   "outputs": [],
   "source": [
    "runner = AutomatonRunner(47)"
   ]
  },
  {
   "cell_type": "markdown",
   "id": "fe3753da-b045-4e17-a9ef-8acfed48b468",
   "metadata": {},
   "source": [
    "We create an automaton that is reandomly initialized."
   ]
  },
  {
   "cell_type": "code",
   "execution_count": null,
   "id": "9568d8e6",
   "metadata": {},
   "outputs": [],
   "source": [
    "automaton = runner.random_automaton(10)"
   ]
  },
  {
   "cell_type": "code",
   "execution_count": null,
   "id": "1455da19",
   "metadata": {},
   "outputs": [],
   "source": [
    "generations = GenerationsHandler()\n",
    "runner.evolve(automaton, 10, generations)"
   ]
  },
  {
   "cell_type": "code",
   "execution_count": null,
   "id": "7eb5a5bf",
   "metadata": {},
   "outputs": [],
   "source": [
    "generations.visualize()"
   ]
  },
  {
   "cell_type": "markdown",
   "id": "eee95e8e",
   "metadata": {},
   "source": [
    "## Exploring rules"
   ]
  },
  {
   "cell_type": "code",
   "execution_count": null,
   "id": "e5cf883c",
   "metadata": {},
   "outputs": [],
   "source": [
    "nr_cols = 16\n",
    "nr_generations = 80\n",
    "figure, axes = plt.subplots(256//nr_cols, nr_cols, figsize=(100, 100))\n",
    "automaton = random.choices((0, 1), k=20)\n",
    "for rule_nr in range(256):\n",
    "    row_nr = rule_nr//nr_cols\n",
    "    col_nr = rule_nr % nr_cols\n",
    "    runner = AutomatonRunner(rule_nr)\n",
    "    generations = GenerationsHandler()\n",
    "    runner.evolve(automaton, nr_generations, generations)\n",
    "    axes[row_nr][col_nr].imshow(generations.generations, aspect='auto')\n",
    "    axes[row_nr][col_nr].set_title(str(rule_nr));\n",
    "plt.tight_layout()"
   ]
  },
  {
   "cell_type": "markdown",
   "id": "f56b134f",
   "metadata": {},
   "source": [
    "Rule 129 seems to be interesting."
   ]
  },
  {
   "cell_type": "code",
   "execution_count": null,
   "id": "0995d7f4",
   "metadata": {},
   "outputs": [],
   "source": [
    "runner = AutomatonRunner(129)"
   ]
  },
  {
   "cell_type": "code",
   "execution_count": null,
   "id": "1c6d07cb",
   "metadata": {},
   "outputs": [],
   "source": [
    "generations = GenerationsHandler()\n",
    "runner.evolve_random(nr_cells=200, nr_generations=300, handler=generations, seed=1234)\n",
    "plt.imshow(generations.generations);"
   ]
  },
  {
   "cell_type": "markdown",
   "id": "5523968a-c073-4c7a-96c4-9ae59dc1f7c2",
   "metadata": {
    "tags": []
   },
   "source": [
    "## Performance"
   ]
  },
  {
   "cell_type": "markdown",
   "id": "56c4af72-e6a2-470e-9c6a-40f714df2548",
   "metadata": {},
   "source": [
    "We can measure the performance by running a large automaton for a considerable number of generations."
   ]
  },
  {
   "cell_type": "code",
   "execution_count": null,
   "id": "8f832b4b-4d64-4d80-9780-5a75d729f2d5",
   "metadata": {},
   "outputs": [],
   "source": [
    "runner = AutomatonRunner(129)"
   ]
  },
  {
   "cell_type": "code",
   "execution_count": null,
   "id": "c5b59662-e4f9-4b8e-81fc-1fc4f0cb2173",
   "metadata": {},
   "outputs": [],
   "source": [
    "nr_cells, nr_generations = 10_000, 500"
   ]
  },
  {
   "cell_type": "code",
   "execution_count": null,
   "id": "4c015ddd-2e18-4341-b146-4786da4dd317",
   "metadata": {},
   "outputs": [],
   "source": [
    "%timeit _ = runner.evolve_random(nr_cells=nr_cells, nr_generations=nr_generations, handler=do_nothing_handler, seed=1234)"
   ]
  },
  {
   "cell_type": "code",
   "execution_count": null,
   "id": "9f2aae88-151c-404d-96ec-c693f22d49a4",
   "metadata": {},
   "outputs": [],
   "source": [
    "%prun _ = runner.evolve_random(nr_cells, 500, do_nothing_handler)"
   ]
  },
  {
   "cell_type": "code",
   "execution_count": null,
   "id": "75f50ea0-5cba-4f81-b1e1-01d1f3803ac5",
   "metadata": {},
   "outputs": [],
   "source": [
    "%lprun -f runner._next_generation runner.evolve_random(nr_cells, 50, do_nothing_handler)"
   ]
  },
  {
   "cell_type": "markdown",
   "id": "1360169b-abbb-48e9-a143-051dfd19b6d3",
   "metadata": {},
   "source": [
    "# Using numpy"
   ]
  },
  {
   "cell_type": "markdown",
   "id": "df2bb2b3-fe2f-4167-aec0-a376ed59cb12",
   "metadata": {},
   "source": [
    "## Implementation"
   ]
  },
  {
   "cell_type": "markdown",
   "id": "bf42b36f-b479-40b0-9fd7-9b7c8db0e95d",
   "metadata": {},
   "source": [
    "Using lists to represent an automaton is probably not the best idea, so we can replace them by numpy arrays."
   ]
  },
  {
   "cell_type": "code",
   "execution_count": null,
   "id": "73980357-43bc-4cd2-a02a-4bb17b4de865",
   "metadata": {},
   "outputs": [],
   "source": [
    "import numpy as np"
   ]
  },
  {
   "cell_type": "code",
   "execution_count": null,
   "id": "7de876f4-f547-45c1-8b46-1d761c193e1c",
   "metadata": {},
   "outputs": [],
   "source": [
    "class AutomatonRunnerNumpy(AutomatonRunner):\n",
    "    \n",
    "    def __init__(self, rule_nr):\n",
    "        self._rules = np.empty(8, dtype=np.int32)\n",
    "        for i in range(self._rules.size):\n",
    "            self._rules[i] = rule_nr % 2\n",
    "            rule_nr //= 2\n",
    "    \n",
    "    def random_automaton(self, nr_cells, seed=None):\n",
    "        if seed is not None:\n",
    "            np.random.seed(seed)\n",
    "        return np.random.randint(0, 2, size=(nr_cells, ))\n",
    "\n",
    "    def _next_generation(self, automaton):\n",
    "        ng_automaton = np.empty_like(automaton)\n",
    "        idx = (automaton[-1] << 2) | (automaton[0] << 1) | automaton[1]\n",
    "        ng_automaton[0] = self._rules[idx]\n",
    "        for i in range(1, automaton.size - 1):\n",
    "            idx = (automaton[i - 1] << 2) | (automaton[i] << 1) | automaton[i + 1]\n",
    "            ng_automaton[i] = self._rules[idx]\n",
    "        idx = (automaton[-2] << 2) | (automaton[-1] << 1) | automaton[0]\n",
    "        ng_automaton[-1] = self._rules[idx]\n",
    "        return ng_automaton"
   ]
  },
  {
   "cell_type": "code",
   "execution_count": null,
   "id": "6ab4ac02-98e1-4355-84fe-9a5730627322",
   "metadata": {},
   "outputs": [],
   "source": [
    "runner = AutomatonRunnerNumpy(129)"
   ]
  },
  {
   "cell_type": "code",
   "execution_count": null,
   "id": "52ed0433-86c8-4a6e-9325-41e5ef621624",
   "metadata": {},
   "outputs": [],
   "source": [
    "generations = GenerationsHandler()\n",
    "runner.evolve_random(nr_cells=200, nr_generations=300, handler=generations, seed=1234)"
   ]
  },
  {
   "cell_type": "code",
   "execution_count": null,
   "id": "86f0b7cc-d48b-447d-b5ef-ce6bb2c051be",
   "metadata": {},
   "outputs": [],
   "source": [
    "generations.visualize()"
   ]
  },
  {
   "cell_type": "markdown",
   "id": "ad03cb2e-db8e-470f-87a2-458d9b02812d",
   "metadata": {
    "tags": []
   },
   "source": [
    "## Performance"
   ]
  },
  {
   "cell_type": "markdown",
   "id": "1a7802e3-a180-4aa0-8c6a-9082a8368e90",
   "metadata": {},
   "source": [
    "We can measure the performance by running a large automaton for a considerable number of generations."
   ]
  },
  {
   "cell_type": "code",
   "execution_count": null,
   "id": "0fae3af8-104a-4af6-9fcf-275238501005",
   "metadata": {},
   "outputs": [],
   "source": [
    "runner = AutomatonRunnerNumpy(129)"
   ]
  },
  {
   "cell_type": "code",
   "execution_count": null,
   "id": "27a39807-2249-4813-90f7-9e66e10a8631",
   "metadata": {},
   "outputs": [],
   "source": [
    "nr_cells, nr_generations = 10_000, 500"
   ]
  },
  {
   "cell_type": "code",
   "execution_count": null,
   "id": "88d41daa-693d-40f1-9cd8-c3e1937d55c5",
   "metadata": {},
   "outputs": [],
   "source": [
    "%timeit _ = runner.evolve_random(nr_cells, nr_generations, do_nothing_handler, seed=1234)"
   ]
  },
  {
   "cell_type": "code",
   "execution_count": null,
   "id": "cfe335a1-5a78-41e9-952a-c2f951497c12",
   "metadata": {},
   "outputs": [],
   "source": [
    "%prun runner.evolve_random(nr_cells, 50, do_nothing_handler)"
   ]
  },
  {
   "cell_type": "code",
   "execution_count": null,
   "id": "b39c5f9d-197e-4173-ad34-3118ea9b6f25",
   "metadata": {},
   "outputs": [],
   "source": [
    "%lprun -f runner._next_generation runner.evolve_random(nr_cells, 50, do_nothing_handler)"
   ]
  },
  {
   "cell_type": "markdown",
   "id": "aeef6f90-b5b5-4762-9a2f-2b195bf8b72a",
   "metadata": {
    "tags": []
   },
   "source": [
    "# Using numba"
   ]
  },
  {
   "cell_type": "markdown",
   "id": "dd618381-8c9f-452f-a1be-b02c92bfd690",
   "metadata": {},
   "source": [
    "## Implementation"
   ]
  },
  {
   "cell_type": "code",
   "execution_count": null,
   "id": "c9c7ac39-5a15-4dac-b75b-095b21843ba6",
   "metadata": {},
   "outputs": [],
   "source": [
    "from numba import njit"
   ]
  },
  {
   "cell_type": "code",
   "execution_count": null,
   "id": "977dd2bd-5afe-4d23-b49e-985f000486a1",
   "metadata": {},
   "outputs": [],
   "source": [
    "@njit\n",
    "def next_generation(rules, automaton):\n",
    "    idx = (automaton[-1] << 2) | (automaton[0] << 1) | automaton[1]\n",
    "    ng_automaton = [rules[idx]]\n",
    "    for i in range(1, len(automaton) - 1):\n",
    "        idx = (automaton[i - 1] << 2) | (automaton[i] << 1) | automaton[i + 1]\n",
    "        ng_automaton.append(rules[idx])\n",
    "    idx = (automaton[-2] << 2) | (automaton[-1] << 1) | automaton[0]\n",
    "    ng_automaton.append(rules[idx])\n",
    "    return ng_automaton"
   ]
  },
  {
   "cell_type": "code",
   "execution_count": null,
   "id": "f504e445-835b-4da3-a6c5-e368cda4877f",
   "metadata": {},
   "outputs": [],
   "source": [
    "class AutomatonRunnerNumba(AutomatonRunner):\n",
    "    \n",
    "    def _next_generation(self, automaton):\n",
    "        return next_generation(self._rules, automaton)"
   ]
  },
  {
   "cell_type": "code",
   "execution_count": null,
   "id": "40e20522-db6c-43be-94ff-930eab6bf8b9",
   "metadata": {},
   "outputs": [],
   "source": [
    "runner = AutomatonRunnerNumba(129)"
   ]
  },
  {
   "cell_type": "code",
   "execution_count": null,
   "id": "b25a9443-45af-4ef0-b6c4-ea7f1f4535d6",
   "metadata": {},
   "outputs": [],
   "source": [
    "generations = GenerationsHandler()\n",
    "runner.evolve_random(200, 300, generations, seed=1234)\n",
    "generations.visualize()"
   ]
  },
  {
   "cell_type": "markdown",
   "id": "a6574595-84b3-4114-a362-82c2c66dda35",
   "metadata": {},
   "source": [
    "## Performance"
   ]
  },
  {
   "cell_type": "code",
   "execution_count": null,
   "id": "089c76af-189a-41cf-b05e-6d94604b3063",
   "metadata": {},
   "outputs": [],
   "source": [
    "runner = AutomatonRunnerNumba(129)"
   ]
  },
  {
   "cell_type": "code",
   "execution_count": null,
   "id": "4e7c0a21-6045-4616-bcaf-74b5f6497199",
   "metadata": {},
   "outputs": [],
   "source": [
    "nr_cells, nr_generations = 10_000, 500"
   ]
  },
  {
   "cell_type": "code",
   "execution_count": null,
   "id": "085c7023-d669-464c-a824-0ee6c2616330",
   "metadata": {},
   "outputs": [],
   "source": [
    "%timeit _ = runner.evolve_random(nr_cells, nr_generations, do_nothing, seed=1234)"
   ]
  },
  {
   "cell_type": "code",
   "execution_count": null,
   "id": "3ed80cba-721f-49ef-867f-49055d4cfae0",
   "metadata": {},
   "outputs": [],
   "source": []
  }
 ],
 "metadata": {
  "kernelspec": {
   "display_name": "Python 3 (ipykernel)",
   "language": "python",
   "name": "python3"
  },
  "language_info": {
   "codemirror_mode": {
    "name": "ipython",
    "version": 3
   },
   "file_extension": ".py",
   "mimetype": "text/x-python",
   "name": "python",
   "nbconvert_exporter": "python",
   "pygments_lexer": "ipython3",
   "version": "3.8.12"
  }
 },
 "nbformat": 4,
 "nbformat_minor": 5
}

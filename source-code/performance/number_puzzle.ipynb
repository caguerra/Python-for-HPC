{
 "cells": [
  {
   "cell_type": "markdown",
   "id": "71b3bfe8-dbb1-4ed1-b941-a4f5c6d475de",
   "metadata": {},
   "source": [
    "# Requirements"
   ]
  },
  {
   "cell_type": "code",
   "execution_count": 70,
   "id": "f3f64a76-7e41-4973-a15f-a70fb8deca68",
   "metadata": {},
   "outputs": [],
   "source": [
    "import itertools\n",
    "import math\n",
    "import matplotlib.pyplot as plt\n",
    "%matplotlib inline\n",
    "import time"
   ]
  },
  {
   "cell_type": "markdown",
   "id": "1a14e730-a579-4e71-a359-6f709a93ee15",
   "metadata": {},
   "source": [
    "# Problem setting"
   ]
  },
  {
   "cell_type": "markdown",
   "id": "c2010f83-7f39-4ed9-942d-02c290712d26",
   "metadata": {},
   "source": [
    "We choose 9 integers $a, b, \\dots, i \\in \\{0, 1, \\dots, 8, 9\\}$ such that\n",
    "* all integers are distinct,\n",
    "* $ab$ is divisible by 2,\n",
    "* $abc$ is divisible by 3,\n",
    "* $abcd$ is divisible by 4,\n",
    "* $abcde$ is divisible by 5,\n",
    "* $abcdef$ is divisible by 6,\n",
    "* $abcdefg$ is divisible by 7,\n",
    "* $abcdefgh$ is divisible by 8,\n",
    "* $abcdefghi$ is divisible by 9.\n",
    "\n",
    "Expressions such as, e.g., $abc$ represent the integer consisting of the digits $a$, $b$, $c$ in decumal notation, so $abc = a \\cdot 10^2  b \\cdot 10^1 + c \\cdot 10^0$.\n",
    "\n",
    "What are the values of $a, b, \\dots, i$ that satisfy all these conditions?"
   ]
  },
  {
   "cell_type": "markdown",
   "id": "85da9534-7c78-4875-8b13-08648f144cc1",
   "metadata": {},
   "source": [
    "# Brute force approach"
   ]
  },
  {
   "cell_type": "markdown",
   "id": "f55c4edb-ff8e-4e63-a33e-309c33695562",
   "metadata": {},
   "source": [
    "The most straightforward approach is to consider all integers between the smallest candiate 123456789 and the largest 987654321, and test the conditions for each.\n",
    "\n",
    "When we have a number of 9 digits, we can get, e.g., the first 6 by integer division by 10^3.  For instance:"
   ]
  },
  {
   "cell_type": "code",
   "execution_count": 2,
   "id": "da723689-c6e5-4ec6-94dc-392512aa9d1c",
   "metadata": {},
   "outputs": [
    {
     "data": {
      "text/plain": [
       "123456"
      ]
     },
     "execution_count": 2,
     "metadata": {},
     "output_type": "execute_result"
    }
   ],
   "source": [
    "123456789//10**3"
   ]
  },
  {
   "cell_type": "markdown",
   "id": "aff8d910-a465-4f43-bddd-934da6c2df6d",
   "metadata": {},
   "source": [
    "So to check whether the condition that, e.g., $abc$ is divisible by 3 for a number $n$, we check `n//10**6 % 3 == 0`.\n",
    "\n",
    "The simplest way to check whether all digits are distinct is to store them in a set, and check that its size equals 9."
   ]
  },
  {
   "cell_type": "code",
   "execution_count": 46,
   "id": "efab2607-e011-4ca7-9f56-49906d8bed9a",
   "metadata": {},
   "outputs": [],
   "source": [
    "def is_okay(number):\n",
    "    if all(map(lambda divisor: (number//10**(9 - divisor)) % divisor == 0, range(2, 10))):\n",
    "        digits = set(str(number))\n",
    "        return len(digits) == 9 and '0' not in digits\n",
    "    else:\n",
    "        return False"
   ]
  },
  {
   "cell_type": "markdown",
   "id": "b3cfe7c5-0797-4d7a-9f75-6a57b5fbe4a3",
   "metadata": {},
   "source": [
    "Now we can enumerate all candidate numbers and check."
   ]
  },
  {
   "cell_type": "markdown",
   "id": "7670e143-43bd-4aaf-a7a1-47e1f49769f5",
   "metadata": {},
   "source": [
    "**Note: this takes 12 minutes on my desktop with an AMD Ryzen 7 3700X 4 GHz CPU**"
   ]
  },
  {
   "cell_type": "code",
   "execution_count": 47,
   "id": "b5978a26-bd48-4f70-81fb-66f0176aa136",
   "metadata": {},
   "outputs": [
    {
     "name": "stdout",
     "output_type": "stream",
     "text": [
      "381654729\n",
      "CPU times: user 13min 6s, sys: 70 ms, total: 13min 6s\n",
      "Wall time: 13min 6s\n"
     ]
    }
   ],
   "source": [
    "%%time\n",
    "for number in range(123456789, 987654321):\n",
    "    if is_okay(number):\n",
    "        print(number)"
   ]
  },
  {
   "cell_type": "markdown",
   "id": "0f034f08-a177-4a99-a67f-c88b4f44c3af",
   "metadata": {},
   "source": [
    "This takes a very long time, and we are doing too much work.  If we were to generate the numbers $ab, abc, \\dots$ consecutively, we know we could stop when, e.g., $abc$ is not divisible by 3.  "
   ]
  },
  {
   "cell_type": "markdown",
   "id": "01e9854f-fad6-40cc-8710-647eeb2ebc79",
   "metadata": {},
   "source": [
    "# Early stopping"
   ]
  },
  {
   "cell_type": "markdown",
   "id": "d1e94116-4b1f-4750-9c04-75b2b211a773",
   "metadata": {},
   "source": [
    "We observe that we don't need to check anything if one of the criteria fails. For instance, when $ab$ is not divisible by 2, we can continue to the next iteration."
   ]
  },
  {
   "cell_type": "code",
   "execution_count": 5,
   "id": "d1e227b8-c3fc-45cd-bac9-a45edd3a011e",
   "metadata": {},
   "outputs": [],
   "source": [
    "def find_number_early_stopping():\n",
    "    for a in range(1, 10):\n",
    "        for b in range(1, 10):\n",
    "            ab = 10*a + b\n",
    "            if ab % 2 != 0: continue\n",
    "            for c in range(1, 10):\n",
    "                abc = 10*ab + c\n",
    "                if abc % 3 != 0: continue\n",
    "                for d in range(1, 10):\n",
    "                    abcd = 10*abc + d\n",
    "                    if abcd % 4 != 0: continue\n",
    "                    for e in range(1, 10):\n",
    "                        abcde = 10*abcd + e\n",
    "                        if abcde % 5 != 0: continue\n",
    "                        for f in range(1, 10):\n",
    "                            abcdef = 10*abcde + f\n",
    "                            if abcdef % 6 != 0: continue\n",
    "                            for g in range(1, 10):\n",
    "                                abcdefg = 10*abcdef + g\n",
    "                                if abcdefg % 7 != 0: continue\n",
    "                                for h in range(1, 10):\n",
    "                                    abcdefgh = 10*abcdefg + h\n",
    "                                    if abcdefgh % 8 != 0: continue\n",
    "                                    for i in range(1, 10):\n",
    "                                        abcdefghi = 10*abcdefgh + i\n",
    "                                        if abcdefghi % 9 == 0 and len(set(str(abcdefghi))) == 9:\n",
    "                                            return abcdefghi"
   ]
  },
  {
   "cell_type": "code",
   "execution_count": 6,
   "id": "dee23ccf-8fcb-493a-8951-bac5ca0bfd38",
   "metadata": {},
   "outputs": [
    {
     "data": {
      "text/plain": [
       "381654729"
      ]
     },
     "execution_count": 6,
     "metadata": {},
     "output_type": "execute_result"
    }
   ],
   "source": [
    "find_number_early_stopping()"
   ]
  },
  {
   "cell_type": "code",
   "execution_count": 7,
   "id": "34d54d42-52a3-44e9-a17a-3078ff9dc271",
   "metadata": {},
   "outputs": [
    {
     "name": "stdout",
     "output_type": "stream",
     "text": [
      "492 µs ± 4.83 µs per loop (mean ± std. dev. of 7 runs, 1000 loops each)\n"
     ]
    }
   ],
   "source": [
    "%timeit find_number_early_stopping()"
   ]
  },
  {
   "cell_type": "markdown",
   "id": "39938786-f770-4039-959e-7e3dfe42b2a3",
   "metadata": {},
   "source": [
    "# Loop collapse"
   ]
  },
  {
   "cell_type": "markdown",
   "id": "5a564578-244b-474b-acfb-0573c66b3584",
   "metadata": {},
   "source": [
    "This code is very ugly, but also quite fast.  It can even be improved by noting som properties based on the conditions.  We know that\n",
    "* $b$ has to be even,\n",
    "* $cd$ has to be divisible by 4,\n",
    "* $e$ is equal to 5,\n",
    "* $fgh$ has to be divisible by 8.\n",
    "\n",
    "This allows us to only loop over even values for `b`, eliminate the loop over `e`, and collapse the loops over `c` and `d`, as well as those over `f`, `g` and `h`.  We no longer have to check whether $ab$ is divisible by 2, $abcd$ by 4 and $abcdefgh$ by 8 since this is the case by construction."
   ]
  },
  {
   "cell_type": "code",
   "execution_count": 8,
   "id": "3e386206-4efa-40bd-a9cb-1a30a23741b0",
   "metadata": {},
   "outputs": [],
   "source": [
    "def find_number_loop_elimation():\n",
    "    for a in range(1, 10):\n",
    "        for b in range(2, 10, 2):\n",
    "            ab = 10*a + b\n",
    "            for cd in range(12, 100, 4):\n",
    "                if (10*ab + cd//10) % 3 != 0: continue\n",
    "                abcde = 1000*ab + 10*cd + 5\n",
    "                for fgh in range(104, 1000, 8):\n",
    "                    if (10*abcde + fgh//100) % 6 != 0 or (100*abcde + fgh//10) % 7 != 0: continue\n",
    "                    abcdefgh = 1000*abcde + fgh\n",
    "                    for i in range(1, 10):\n",
    "                        abcdefghi = 10*abcdefgh + i\n",
    "                        if abcdefghi % 9 == 0 and len(set(str(abcdefghi))) == 9:\n",
    "                            return abcdefghi"
   ]
  },
  {
   "cell_type": "code",
   "execution_count": 9,
   "id": "2dd7b055-0dcc-4c89-a42f-a0f67b582452",
   "metadata": {},
   "outputs": [
    {
     "data": {
      "text/plain": [
       "381654729"
      ]
     },
     "execution_count": 9,
     "metadata": {},
     "output_type": "execute_result"
    }
   ],
   "source": [
    "find_number_loop_elimation()"
   ]
  },
  {
   "cell_type": "code",
   "execution_count": 10,
   "id": "fffea4cc-412f-4429-bce1-a0b4c060c69d",
   "metadata": {},
   "outputs": [
    {
     "name": "stdout",
     "output_type": "stream",
     "text": [
      "1.21 ms ± 11.3 µs per loop (mean ± std. dev. of 7 runs, 1000 loops each)\n"
     ]
    }
   ],
   "source": [
    "%timeit find_number_loop_elimation()"
   ]
  },
  {
   "cell_type": "markdown",
   "id": "edd08b09-dadb-4811-b106-c21335e72c2a",
   "metadata": {},
   "source": [
    "Perhaps contrary to our expectations, the code runs considerably slower than the previous version.  Checking whether $abc$ is divisible by 3 is now much more time consuming"
   ]
  },
  {
   "cell_type": "code",
   "execution_count": 11,
   "id": "6553b1ee-dfb0-492a-a36b-bdad41304837",
   "metadata": {},
   "outputs": [],
   "source": [
    "def find_number_loop_elimation_modest():\n",
    "    for a in range(1, 10):\n",
    "        for b in range(2, 10, 2):\n",
    "            ab = 10*a + b\n",
    "            for c in range(1, 10):\n",
    "                abc = 10*ab + c\n",
    "                if abc % 3 != 0: continue\n",
    "                for d in range(2, 10, 2):\n",
    "                    abcd = 10*abc + d\n",
    "                    if abcd % 4 != 0: continue\n",
    "                    abcde = 10*abcd + 5\n",
    "                    for fgh in range(104, 1000, 8):\n",
    "                        if (10*abcde + fgh//100) % 6 != 0 or (100*abcde + fgh//10) % 7 != 0: continue\n",
    "                        abcdefgh = 1000*abcde + fgh\n",
    "                        for i in range(1, 10):\n",
    "                            abcdefghi = 10*abcdefgh + i\n",
    "                            if abcdefghi % 9 == 0 and len(set(str(abcdefghi))) == 9:\n",
    "                                return abcdefghi"
   ]
  },
  {
   "cell_type": "code",
   "execution_count": 12,
   "id": "5773ce23-daf0-4b66-8863-172fe98f1d34",
   "metadata": {},
   "outputs": [
    {
     "data": {
      "text/plain": [
       "381654729"
      ]
     },
     "execution_count": 12,
     "metadata": {},
     "output_type": "execute_result"
    }
   ],
   "source": [
    "find_number_loop_elimation_modest()"
   ]
  },
  {
   "cell_type": "code",
   "execution_count": 13,
   "id": "c2b6ca84-a601-470d-91c5-d90421f35ae7",
   "metadata": {},
   "outputs": [
    {
     "name": "stdout",
     "output_type": "stream",
     "text": [
      "1.04 ms ± 8.92 µs per loop (mean ± std. dev. of 7 runs, 1000 loops each)\n"
     ]
    }
   ],
   "source": [
    "%timeit find_number_loop_elimation_modest()"
   ]
  },
  {
   "cell_type": "markdown",
   "id": "17b131b7-a11a-4a5d-9174-0ac14c2393f8",
   "metadata": {},
   "source": [
    "Indeed, this shows that trying to be too clever doesn't really help.  However, we can\n",
    "* cut back on the loop trip count for `b`, `d` and `h` since these can only be even,\n",
    "* eliminate the test on $ab$ since it will now be even by construction, and\n",
    "* eliminate the loop for `e` as well as the test in that loop since `e` can only be equal to 5."
   ]
  },
  {
   "cell_type": "code",
   "execution_count": 14,
   "id": "9375d456-7a0d-4b71-a1e4-af5eb38e5c59",
   "metadata": {},
   "outputs": [],
   "source": [
    "def find_number_early_stopping_sparse():\n",
    "    for a in range(1, 10):\n",
    "        for b in range(2, 10, 2):\n",
    "            ab = 10*a + b\n",
    "            for c in range(1, 10):\n",
    "                abc = 10*ab + c\n",
    "                if abc % 3 != 0: continue\n",
    "                for d in range(2, 10, 2):\n",
    "                    abcd = 10*abc + d\n",
    "                    if abcd % 4 != 0: continue\n",
    "                    abcde = 10*abcd + 5\n",
    "                    for f in range(1, 10):\n",
    "                        abcdef = 10*abcde + f\n",
    "                        if abcdef % 6 != 0: continue\n",
    "                        for g in range(1, 10):\n",
    "                            abcdefg = 10*abcdef + g\n",
    "                            if abcdefg % 7 != 0: continue\n",
    "                            for h in range(2, 10, 2):\n",
    "                                abcdefgh = 10*abcdefg + h\n",
    "                                if abcdefgh % 8 != 0: continue\n",
    "                                for i in range(1, 10):\n",
    "                                    abcdefghi = 10*abcdefgh + i\n",
    "                                    if abcdefghi % 9 == 0 and len(set(str(abcdefghi))) == 9:\n",
    "                                        return abcdefghi"
   ]
  },
  {
   "cell_type": "code",
   "execution_count": 15,
   "id": "1d922f79-22c4-4be7-8535-94fb61e3cd78",
   "metadata": {},
   "outputs": [
    {
     "data": {
      "text/plain": [
       "381654729"
      ]
     },
     "execution_count": 15,
     "metadata": {},
     "output_type": "execute_result"
    }
   ],
   "source": [
    "find_number_early_stopping_sparse()"
   ]
  },
  {
   "cell_type": "code",
   "execution_count": 16,
   "id": "7167e31c-7473-468b-8474-3905e8d7baa0",
   "metadata": {},
   "outputs": [
    {
     "name": "stdout",
     "output_type": "stream",
     "text": [
      "383 µs ± 6.31 µs per loop (mean ± std. dev. of 7 runs, 1000 loops each)\n"
     ]
    }
   ],
   "source": [
    "%timeit find_number_early_stopping_sparse()"
   ]
  },
  {
   "cell_type": "markdown",
   "id": "d9a83a94-e1e7-4a28-abbc-f24776af7ff7",
   "metadata": {},
   "source": [
    "# Permutations"
   ]
  },
  {
   "cell_type": "markdown",
   "id": "ec3c7525-0981-4081-a42a-ca89c7498c78",
   "metadata": {},
   "source": [
    "Perhaps there is another approach when we realize that we only need to check the permutations of the tuple `(1, 2, 3, 4, 5, 6, 7, 8, 9)` since that will ensure that all digits are distinct, which is a requirement anyway."
   ]
  },
  {
   "cell_type": "code",
   "execution_count": 17,
   "id": "48fe744c-9e0b-400e-beaf-39bc7071054e",
   "metadata": {},
   "outputs": [],
   "source": [
    "def find_number_perm():\n",
    "    def is_okay(digits):\n",
    "        number = 0\n",
    "        for i, digit in enumerate(digits):\n",
    "            number = 10*number + digits[i]\n",
    "            if number % (i + 1) != 0:\n",
    "                return False\n",
    "        return True\n",
    "    for digits in itertools.permutations(range(1, 10)):\n",
    "        if is_okay(digits):\n",
    "            return int(''.join(map(str, digits)))"
   ]
  },
  {
   "cell_type": "code",
   "execution_count": 18,
   "id": "f5f39485-4af1-402a-98b6-ed24762d2713",
   "metadata": {},
   "outputs": [
    {
     "data": {
      "text/plain": [
       "381654729"
      ]
     },
     "execution_count": 18,
     "metadata": {},
     "output_type": "execute_result"
    }
   ],
   "source": [
    "find_number_perm()"
   ]
  },
  {
   "cell_type": "code",
   "execution_count": 19,
   "id": "d26deccf-2897-40c1-a416-f32b98a0a489",
   "metadata": {},
   "outputs": [
    {
     "name": "stdout",
     "output_type": "stream",
     "text": [
      "47.7 ms ± 883 µs per loop (mean ± std. dev. of 7 runs, 10 loops each)\n"
     ]
    }
   ],
   "source": [
    "%timeit find_number_perm()"
   ]
  },
  {
   "cell_type": "markdown",
   "id": "046b03de-86bf-4257-ad05-e00994d8037a",
   "metadata": {},
   "source": [
    "However, we can be a bit smarter."
   ]
  },
  {
   "cell_type": "code",
   "execution_count": 20,
   "id": "2766bb51-817e-4d83-9e40-95ff9a226ca9",
   "metadata": {},
   "outputs": [],
   "source": [
    "def find_number_perm_smart():\n",
    "    for digits in itertools.permutations([1, 2, 3, 4] + [6, 7, 8, 9]):\n",
    "        digits = digits[:4] + (5, ) + digits[4:]                     # abcde is divisible by 5, so e = 5\n",
    "        if digits[1] & 1: continue                                   # ab is divisible by 2\n",
    "        if (10*digits[2] + digits[3]) & 3: continue                  # abcd is divisible by 4\n",
    "        if (100*digits[5] + 10*digits[6] + digits[7]) & 7: continue  # abcdefgh is divisible by 8\n",
    "        if (digits[0] + digits[1] + digits[2]) % 3 != 0: continue    # abc is divisible by 3\n",
    "        if digits[5] & 1 or sum(digits[:6]) % 3 != 0: continue       # abcdef is divisible by 6\n",
    "        if sum(digits) % 9 != 0: continue                            # abcdefghi is divisible by 9\n",
    "        number = sum(map(lambda x: x[1]*10**(6 - x[0]), enumerate(digits[:7])))\n",
    "        if number % 7 != 0: continue                                 # abcdefh is divisible by 7\n",
    "        return 100*number + 10*digits[7] + digits[8]"
   ]
  },
  {
   "cell_type": "code",
   "execution_count": 21,
   "id": "f695e32d-3be7-4d1a-a025-4de8f938dd40",
   "metadata": {},
   "outputs": [
    {
     "data": {
      "text/plain": [
       "381654729"
      ]
     },
     "execution_count": 21,
     "metadata": {},
     "output_type": "execute_result"
    }
   ],
   "source": [
    "find_number_perm_smart()"
   ]
  },
  {
   "cell_type": "code",
   "execution_count": 22,
   "id": "9e77eaa9-cde4-40fb-ab48-167cb8cc1d6e",
   "metadata": {},
   "outputs": [
    {
     "name": "stdout",
     "output_type": "stream",
     "text": [
      "3.56 ms ± 5.16 µs per loop (mean ± std. dev. of 7 runs, 100 loops each)\n"
     ]
    }
   ],
   "source": [
    "%timeit find_number_perm_smart()"
   ]
  },
  {
   "cell_type": "markdown",
   "id": "3c503f86-afb9-4aca-8e7b-688fc128cba8",
   "metadata": {},
   "source": [
    "It's not bad compared to our initial approach considering only permutations, but can we do better?  We can experiment by reordering the criteria systematically.  To do so, we store them in a dictionary as lambda functions."
   ]
  },
  {
   "cell_type": "code",
   "execution_count": 23,
   "id": "0f12364e-32c4-430d-b227-2a81297d3140",
   "metadata": {},
   "outputs": [],
   "source": [
    "fail_criteria = {\n",
    "    'div2': lambda digits: digits[1] & 1,\n",
    "    'div3': lambda digits: (digits[0] + digits[1] + digits[2]) % 3 != 0,\n",
    "    'div4': lambda digits: (10*digits[2] + digits[3]) & 3,\n",
    "    'div6': lambda digits: digits[5] & 1 or sum(digits[:6]) % 3 != 0,\n",
    "    'div7': lambda digits: sum(map(lambda x: x[1]*10**(6 - x[0]), enumerate(digits[:7]))) % 7 != 0,\n",
    "    'div8': lambda digits: (100*digits[5] + 10*digits[6] + digits[7]) & 7,\n",
    "    'div9': lambda digits: sum(digits) % 9 != 0,\n",
    "}"
   ]
  },
  {
   "cell_type": "markdown",
   "id": "c39afc27-5bd1-48a0-a11a-d3c316541038",
   "metadata": {},
   "source": [
    "We can time these criteria."
   ]
  },
  {
   "cell_type": "code",
   "execution_count": 48,
   "id": "855e5dc7-5253-4bb9-a110-5ad9dea20586",
   "metadata": {},
   "outputs": [],
   "source": [
    "def time_criteria(fail_criteria, nr_runs=100):\n",
    "    timings = {}\n",
    "    digits = (3, 8, 1, 6, 5, 4, 7, 2, 9)\n",
    "    for name, criterium in fail_criteria.items():\n",
    "        start_time = time.time_ns()\n",
    "        for _ in range(nr_runs):\n",
    "            assert(not criterium(digits))\n",
    "        stop_time = time.time_ns()\n",
    "        timings[name] = (stop_time - start_time)/nr_runs\n",
    "    return timings"
   ]
  },
  {
   "cell_type": "code",
   "execution_count": 57,
   "id": "77b9d845-3f71-4a08-932b-8ad57fb531af",
   "metadata": {},
   "outputs": [],
   "source": [
    "criteria_timings = time_criteria(fail_criteria, nr_runs=10_000)"
   ]
  },
  {
   "cell_type": "code",
   "execution_count": 58,
   "id": "31c5b632-b104-406a-9f0e-25808867188f",
   "metadata": {},
   "outputs": [
    {
     "name": "stdout",
     "output_type": "stream",
     "text": [
      "div2:       99.8\n",
      "div3:      123.0\n",
      "div4:      125.7\n",
      "div9:      174.1\n",
      "div8:      186.7\n",
      "div6:      318.6\n",
      "div7:     2386.3\n"
     ]
    }
   ],
   "source": [
    "for name, timing in sorted(criteria_timings.items(), key=lambda x: x[1]):\n",
    "    print(f'{name}: {timing:10.1f}')"
   ]
  },
  {
   "cell_type": "markdown",
   "id": "c53c9b75-034f-44b4-941b-393819e96d20",
   "metadata": {},
   "source": [
    "Based on this ranking we would conclude that this would be the ideal order in which to verify the criteria."
   ]
  },
  {
   "cell_type": "code",
   "execution_count": 59,
   "id": "d1c715e6-c426-4d55-8c32-8725599bfee6",
   "metadata": {},
   "outputs": [
    {
     "data": {
      "text/plain": [
       "'div2-div3-div4-div9-div8-div6-div7'"
      ]
     },
     "execution_count": 59,
     "metadata": {},
     "output_type": "execute_result"
    }
   ],
   "source": [
    "timing_strategy = '-'.join(map(lambda x: x[0], sorted(criteria_timings.items(), key=lambda x: x[1])))\n",
    "timing_strategy"
   ]
  },
  {
   "cell_type": "markdown",
   "id": "c03bf14d-d40f-4464-a974-1d6acaa69a3f",
   "metadata": {},
   "source": [
    "The function below takes a strategy, i.e., a list of criteria and uses those to solve the puzzle."
   ]
  },
  {
   "cell_type": "code",
   "execution_count": 24,
   "id": "7c9e5b32-981f-412a-b762-0d9bb2a43654",
   "metadata": {},
   "outputs": [],
   "source": [
    "def find_number_flexible(fail_criteria):\n",
    "    for digits in itertools.permutations([1, 2, 3, 4] + [6, 7, 8, 9]):\n",
    "        digits = digits[:4] + (5, ) + digits[4:]                     # abcde is divisible by 5, so e = 5\n",
    "        if not any(map(lambda criterium: criterium(digits), fail_criteria)):\n",
    "            return digits"
   ]
  },
  {
   "cell_type": "code",
   "execution_count": 25,
   "id": "e133c09b-0097-4c3e-b84a-308346242eea",
   "metadata": {},
   "outputs": [
    {
     "data": {
      "text/plain": [
       "(3, 8, 1, 6, 5, 4, 7, 2, 9)"
      ]
     },
     "execution_count": 25,
     "metadata": {},
     "output_type": "execute_result"
    }
   ],
   "source": [
    "find_number_flexible(fail_criteria.values())"
   ]
  },
  {
   "cell_type": "markdown",
   "id": "1338f01b-e42f-4cd2-8589-94a0b6197e24",
   "metadata": {},
   "source": [
    "Now we can rank all strategies to find the optimal one."
   ]
  },
  {
   "cell_type": "code",
   "execution_count": 26,
   "id": "bc0f18c7-c680-4008-ba94-24013a5d8acf",
   "metadata": {},
   "outputs": [],
   "source": [
    "def rank_strategies(fail_criteria, nr_runs=100):\n",
    "    timings = {}\n",
    "    for criterium_nr, criteria_names in enumerate(itertools.permutations(fail_criteria.keys())):\n",
    "        if criterium_nr % 100 == 0:\n",
    "            print(f'starting {criterium_nr}')\n",
    "        criteria = [fail_criteria[name] for name in criteria_names]\n",
    "        start_time = time.time_ns()\n",
    "        for _ in range(nr_runs):\n",
    "            assert(find_number_flexible(criteria) == (3, 8, 1, 6, 5, 4, 7, 2, 9))\n",
    "        stop_time = time.time_ns()\n",
    "        timings['-'.join(criteria_names)] = (stop_time - start_time)/nr_runs\n",
    "    return timings"
   ]
  },
  {
   "cell_type": "markdown",
   "id": "0047cc77-e057-4b1a-b916-8fdf4b767897",
   "metadata": {},
   "source": [
    "**Note: this takes 6 minutes on my AMD Ryzen 7 3700X 4 GHz CPU.**"
   ]
  },
  {
   "cell_type": "code",
   "execution_count": 60,
   "id": "32a6bae5-c655-4849-926b-ffa629cf63ad",
   "metadata": {},
   "outputs": [
    {
     "name": "stdout",
     "output_type": "stream",
     "text": [
      "starting 0\n",
      "starting 100\n",
      "starting 200\n",
      "starting 300\n",
      "starting 400\n",
      "starting 500\n",
      "starting 600\n",
      "starting 700\n",
      "starting 800\n",
      "starting 900\n",
      "starting 1000\n",
      "starting 1100\n",
      "starting 1200\n",
      "starting 1300\n",
      "starting 1400\n",
      "starting 1500\n",
      "starting 1600\n",
      "starting 1700\n",
      "starting 1800\n",
      "starting 1900\n",
      "starting 2000\n",
      "starting 2100\n",
      "starting 2200\n",
      "starting 2300\n",
      "starting 2400\n",
      "starting 2500\n",
      "starting 2600\n",
      "starting 2700\n",
      "starting 2800\n",
      "starting 2900\n",
      "starting 3000\n",
      "starting 3100\n",
      "starting 3200\n",
      "starting 3300\n",
      "starting 3400\n",
      "starting 3500\n",
      "starting 3600\n",
      "starting 3700\n",
      "starting 3800\n",
      "starting 3900\n",
      "starting 4000\n",
      "starting 4100\n",
      "starting 4200\n",
      "starting 4300\n",
      "starting 4400\n",
      "starting 4500\n",
      "starting 4600\n",
      "starting 4700\n",
      "starting 4800\n",
      "starting 4900\n",
      "starting 5000\n",
      "CPU times: user 6min 20s, sys: 60 ms, total: 6min 20s\n",
      "Wall time: 6min 20s\n"
     ]
    }
   ],
   "source": [
    "%time timings = rank_strategies(fail_criteria, nr_runs=5)"
   ]
  },
  {
   "cell_type": "markdown",
   "id": "bbd829de-9a81-423a-aace-3027aaf08944",
   "metadata": {},
   "source": [
    "We sort the strategies."
   ]
  },
  {
   "cell_type": "code",
   "execution_count": 61,
   "id": "66d30c12-f02b-493d-a7d5-a6446f6665af",
   "metadata": {},
   "outputs": [],
   "source": [
    "sorted_timings = sorted(timings.items(), key=lambda x: x[1])"
   ]
  },
  {
   "cell_type": "markdown",
   "id": "f35b42cf-424f-4cf0-87e9-b3c5b670f969",
   "metadata": {},
   "source": [
    "The top-10 strategies are given bolow."
   ]
  },
  {
   "cell_type": "code",
   "execution_count": 62,
   "id": "87b88d91-761c-4eb4-9681-030a7d5c5217",
   "metadata": {},
   "outputs": [
    {
     "data": {
      "text/plain": [
       "[('div4-div6-div8-div3-div2-div7-div9', 7085576.2),\n",
       " ('div4-div6-div8-div3-div7-div2-div9', 7112514.6),\n",
       " ('div4-div6-div8-div9-div3-div2-div7', 7118653.8),\n",
       " ('div4-div6-div3-div9-div8-div2-div7', 7120042.6),\n",
       " ('div4-div6-div8-div3-div9-div7-div2', 7126696.8),\n",
       " ('div4-div6-div3-div8-div2-div7-div9', 7127947.2),\n",
       " ('div4-div6-div3-div9-div8-div7-div2', 7134830.4),\n",
       " ('div4-div6-div3-div8-div9-div2-div7', 7152086.4),\n",
       " ('div4-div6-div3-div8-div7-div2-div9', 7154290.6),\n",
       " ('div4-div6-div8-div2-div9-div7-div3', 7161105.4)]"
      ]
     },
     "execution_count": 62,
     "metadata": {},
     "output_type": "execute_result"
    }
   ],
   "source": [
    "sorted_timings[:10]"
   ]
  },
  {
   "cell_type": "markdown",
   "id": "bb19db21-d15b-44d5-b4de-ada83d4859be",
   "metadata": {},
   "source": [
    "The 10 worst strategies are listed below."
   ]
  },
  {
   "cell_type": "code",
   "execution_count": 63,
   "id": "b6f1666e-01f8-433e-84c6-2639ad75e6e6",
   "metadata": {},
   "outputs": [
    {
     "data": {
      "text/plain": [
       "[('div9-div7-div8-div3-div2-div4-div6', 41901023.6),\n",
       " ('div9-div7-div6-div4-div2-div8-div3', 41905931.0),\n",
       " ('div9-div7-div6-div4-div8-div3-div2', 42090720.2),\n",
       " ('div7-div2-div3-div8-div4-div9-div6', 42113926.0),\n",
       " ('div7-div3-div8-div6-div9-div4-div2', 42187232.6),\n",
       " ('div9-div7-div2-div4-div3-div6-div8', 42354665.6),\n",
       " ('div9-div7-div6-div2-div4-div8-div3', 42555583.2),\n",
       " ('div9-div7-div2-div8-div3-div6-div4', 42716782.4),\n",
       " ('div7-div9-div4-div2-div8-div3-div6', 43064402.0),\n",
       " ('div9-div7-div8-div2-div6-div4-div3', 43250269.6)]"
      ]
     },
     "execution_count": 63,
     "metadata": {},
     "output_type": "execute_result"
    }
   ],
   "source": [
    "sorted_timings[-10:]"
   ]
  },
  {
   "cell_type": "markdown",
   "id": "bdbf2162-311e-4985-9945-24cdb537dacc",
   "metadata": {},
   "source": [
    "The ratio between the time taken by the best and the worst strategy is givenby"
   ]
  },
  {
   "cell_type": "code",
   "execution_count": 64,
   "id": "78ec145e-1eb7-4618-8f3e-ecf251941386",
   "metadata": {},
   "outputs": [
    {
     "data": {
      "text/plain": [
       "6.103987647468952"
      ]
     },
     "execution_count": 64,
     "metadata": {},
     "output_type": "execute_result"
    }
   ],
   "source": [
    "sorted_timings[-1][1]/sorted_timings[0][1]"
   ]
  },
  {
   "cell_type": "markdown",
   "id": "d0200e9d-7436-4cd6-a0ec-ca1ca7ebf7e1",
   "metadata": {},
   "source": [
    "The strategy I picked intuitively is not doing too badly."
   ]
  },
  {
   "cell_type": "code",
   "execution_count": 65,
   "id": "f707bf92-5ab9-4675-b9a8-dff8963bb40c",
   "metadata": {},
   "outputs": [],
   "source": [
    "my_strategy = 'div2-div4-div8-div3-div6-div9-div7'"
   ]
  },
  {
   "cell_type": "code",
   "execution_count": 66,
   "id": "dcdddd6a-3f69-4fba-9887-21538f99bfbb",
   "metadata": {},
   "outputs": [
    {
     "data": {
      "text/plain": [
       "1.0474131941450293"
      ]
     },
     "execution_count": 66,
     "metadata": {},
     "output_type": "execute_result"
    }
   ],
   "source": [
    "timings[my_strategy]/sorted_timings[0][1]"
   ]
  },
  {
   "cell_type": "markdown",
   "id": "c20e3465-0e9e-498e-806e-c7e577129446",
   "metadata": {},
   "source": [
    "A strategy based on the original sequence of criteria definitely does worse."
   ]
  },
  {
   "cell_type": "code",
   "execution_count": 67,
   "id": "bf4f62f4-891e-4d7c-8536-7e1d4cd18854",
   "metadata": {},
   "outputs": [
    {
     "data": {
      "text/plain": [
       "1.1474930436850006"
      ]
     },
     "execution_count": 67,
     "metadata": {},
     "output_type": "execute_result"
    }
   ],
   "source": [
    "timings['div2-div3-div4-div6-div7-div8-div9']/sorted_timings[0][1]"
   ]
  },
  {
   "cell_type": "markdown",
   "id": "1e0afe92-8458-4f34-90d6-05aee65659d2",
   "metadata": {},
   "source": [
    "We can also check how well the strategy based on execution times of the criteria would do."
   ]
  },
  {
   "cell_type": "code",
   "execution_count": 68,
   "id": "344cf496-e855-4b1d-9e65-bf31bd4b7ec2",
   "metadata": {},
   "outputs": [
    {
     "data": {
      "text/plain": [
       "1.1116070419227162"
      ]
     },
     "execution_count": 68,
     "metadata": {},
     "output_type": "execute_result"
    }
   ],
   "source": [
    "timings[timing_strategy]/sorted_timings[0][1]"
   ]
  },
  {
   "cell_type": "markdown",
   "id": "11ac97d8-08ca-46fc-9b6a-2bdbb3d67724",
   "metadata": {},
   "source": [
    "Visualizing the cummulative distribution shows that approximately 30 % of the strategies are witing 20 % of optimal performance."
   ]
  },
  {
   "cell_type": "code",
   "execution_count": 76,
   "id": "e41995bb-2796-4e71-9058-46911bbc650b",
   "metadata": {},
   "outputs": [
    {
     "data": {
      "image/png": "[encoded data removed]",
      "text/plain": [
       "<Figure size 432x288 with 1 Axes>"
      ]
     },
     "metadata": {
      "needs_background": "light"
     },
     "output_type": "display_data"
    }
   ],
   "source": [
    "_ = plt.hist([value/sorted_timings[0][1] for value in timings.values()], bins=60, cumulative=True, density=True)"
   ]
  },
  {
   "cell_type": "markdown",
   "id": "d20f05a5-7ce6-47d1-b987-6f703b618217",
   "metadata": {},
   "source": [
    "Regardless, only using the permutations of the digits is still doing considerably worse than using nested loops."
   ]
  },
  {
   "cell_type": "markdown",
   "id": "b57d2093-e771-44b9-aab3-123b5562967a",
   "metadata": {
    "tags": []
   },
   "source": [
    "# Recursion"
   ]
  },
  {
   "cell_type": "markdown",
   "id": "c04b0181-78cb-42a2-9273-6133482132a5",
   "metadata": {},
   "source": [
    "The code with the nested loops is quite fast, but quite ugly, we can get a nicer implementation using recursion.\n",
    "\n",
    "We define two helper function to make the code easier to understand.  The first function returns the number of digits of an integer (note that it will fail for 0 and 1 as input).  The second checks whether a number has all distinct digits."
   ]
  },
  {
   "cell_type": "code",
   "execution_count": 35,
   "id": "49a60d4a-9949-4f40-8aa2-866bd3cb77f0",
   "metadata": {},
   "outputs": [],
   "source": [
    "def number_of_digits(number):\n",
    "    return math.ceil(math.log10(number))"
   ]
  },
  {
   "cell_type": "code",
   "execution_count": 36,
   "id": "bd88acb0-182e-4325-9063-8d25e42f6ab5",
   "metadata": {},
   "outputs": [],
   "source": [
    "def has_distinct_digits(number):\n",
    "    return len(set(str(number))) == number_of_digits(number)"
   ]
  },
  {
   "cell_type": "markdown",
   "id": "4195a2d2-6f22-4ba8-a0c3-8eac33dadc43",
   "metadata": {},
   "source": [
    "Now the recursive implementation is straightforward."
   ]
  },
  {
   "cell_type": "code",
   "execution_count": 37,
   "id": "ec608d12-637a-4420-871a-015a5f4b3088",
   "metadata": {},
   "outputs": [],
   "source": [
    "def find_number_recursive(number=None):\n",
    "    if number is None:\n",
    "        # this is the first digit a\n",
    "        for digit in range(1, 10):\n",
    "            if result := find_number_recursive(digit):\n",
    "                return result\n",
    "    elif number_of_digits(number) < 9:\n",
    "        # all digits up to h\n",
    "        for digit in range(1, 10):\n",
    "            new_number = digit + 10*number\n",
    "            if new_number % number_of_digits(new_number) == 0 and (result := find_number_recursive(new_number)):\n",
    "                return result\n",
    "    elif has_distinct_digits(number):\n",
    "        # 9 digits, all distinct\n",
    "        return number"
   ]
  },
  {
   "cell_type": "code",
   "execution_count": 38,
   "id": "46a68d6d-8ba2-4d09-87a6-305d7ad05a22",
   "metadata": {},
   "outputs": [
    {
     "data": {
      "text/plain": [
       "381654729"
      ]
     },
     "execution_count": 38,
     "metadata": {},
     "output_type": "execute_result"
    }
   ],
   "source": [
    "find_number_recursive()"
   ]
  },
  {
   "cell_type": "code",
   "execution_count": 39,
   "id": "7e28cbf7-bcdf-49f5-8f5d-bd9ed7101942",
   "metadata": {},
   "outputs": [
    {
     "name": "stdout",
     "output_type": "stream",
     "text": [
      "1.45 ms ± 24 µs per loop (mean ± std. dev. of 7 runs, 1000 loops each)\n"
     ]
    }
   ],
   "source": [
    "%timeit find_number_recursive()"
   ]
  },
  {
   "cell_type": "markdown",
   "id": "0d0c912b-4c12-401a-a1d1-bde0adce908a",
   "metadata": {},
   "source": [
    "# Inlining"
   ]
  },
  {
   "cell_type": "markdown",
   "id": "8a9751a4-eba4-4298-94f5-a0ca87253e32",
   "metadata": {},
   "source": [
    "The performance is not as good as the implementation using nested loops, but eliminating the function calls improves performance."
   ]
  },
  {
   "cell_type": "code",
   "execution_count": 40,
   "id": "7064a2ef-b910-4440-87ba-9610ef465aed",
   "metadata": {},
   "outputs": [],
   "source": [
    "def find_number_recursive_inline(number=None):\n",
    "    if number is None:\n",
    "        # this is the first digit a\n",
    "        for digit in range(1, 10):\n",
    "            if result := find_number_recursive_inline(digit):\n",
    "                return result\n",
    "    elif math.ceil(math.log10(number)) < 9:\n",
    "        # all digits up to h\n",
    "        for digit in range(1, 10):\n",
    "            new_number = digit + 10*number\n",
    "            if new_number % math.ceil(math.log10(new_number)) == 0 and (result := find_number_recursive_inline(new_number)):\n",
    "                return result\n",
    "    elif has_distinct_digits(number):\n",
    "        # 9 digits, all distinct\n",
    "        return number"
   ]
  },
  {
   "cell_type": "code",
   "execution_count": 41,
   "id": "e3661da9-4520-4a9b-bd13-a87658cf59e6",
   "metadata": {},
   "outputs": [
    {
     "data": {
      "text/plain": [
       "381654729"
      ]
     },
     "execution_count": 41,
     "metadata": {},
     "output_type": "execute_result"
    }
   ],
   "source": [
    "find_number_recursive_inline()"
   ]
  },
  {
   "cell_type": "code",
   "execution_count": 42,
   "id": "9017604a-258c-4f08-859c-d45584c9457d",
   "metadata": {},
   "outputs": [
    {
     "name": "stdout",
     "output_type": "stream",
     "text": [
      "1.26 ms ± 19.4 µs per loop (mean ± std. dev. of 7 runs, 1000 loops each)\n"
     ]
    }
   ],
   "source": [
    "%timeit find_number_recursive_inline()"
   ]
  },
  {
   "cell_type": "markdown",
   "id": "8e8fc4d2-9080-45d3-a14a-f96964d9c935",
   "metadata": {},
   "source": [
    "Although slower than the nested loop implementation, the recursive implementation is much more elegant."
   ]
  },
  {
   "cell_type": "markdown",
   "id": "e05fcfce-cbcc-45ac-a8ce-710669a44772",
   "metadata": {},
   "source": [
    "# No logs"
   ]
  },
  {
   "cell_type": "code",
   "execution_count": 43,
   "id": "aabc815d-c184-4a8d-9a34-76ef5caed9a9",
   "metadata": {},
   "outputs": [],
   "source": [
    "def find_number_recursive_no_log(number=None, nr_digits=0):\n",
    "    if nr_digits == 0:\n",
    "        for digit in range(1, 10):\n",
    "            if result := find_number_recursive_no_log(digit, 1):\n",
    "                return result\n",
    "    elif nr_digits < 9:\n",
    "        for digit in range(1, 10):\n",
    "            new_number = digit + 10*number\n",
    "            if new_number % (nr_digits + 1) == 0 and (result := find_number_recursive_no_log(new_number, nr_digits + 1)):\n",
    "                return result\n",
    "    elif has_distinct_digits(number):\n",
    "        # 9 digits, all distinct\n",
    "        return number"
   ]
  },
  {
   "cell_type": "code",
   "execution_count": 44,
   "id": "c2460ec5-655d-4a4e-b0c2-49e484259f49",
   "metadata": {},
   "outputs": [
    {
     "data": {
      "text/plain": [
       "381654729"
      ]
     },
     "execution_count": 44,
     "metadata": {},
     "output_type": "execute_result"
    }
   ],
   "source": [
    "find_number_recursive_no_log()"
   ]
  },
  {
   "cell_type": "code",
   "execution_count": 45,
   "id": "dc837915-6c0f-4498-859d-0d97a1a6a25e",
   "metadata": {},
   "outputs": [
    {
     "name": "stdout",
     "output_type": "stream",
     "text": [
      "627 µs ± 11.9 µs per loop (mean ± std. dev. of 7 runs, 1000 loops each)\n"
     ]
    }
   ],
   "source": [
    "%timeit find_number_recursive_no_log()"
   ]
  },
  {
   "cell_type": "markdown",
   "id": "6fdb5ad4-69b4-4069-8b61-63bb91ba1031",
   "metadata": {},
   "source": [
    "This implementation is just a little less efficient than the nested loop implementation, but much more elegant."
   ]
  },
  {
   "cell_type": "code",
   "execution_count": null,
   "id": "d202e434-3087-441b-8b7b-c7d99165c70e",
   "metadata": {},
   "outputs": [],
   "source": []
  }
 ],
 "metadata": {
  "kernelspec": {
   "display_name": "Python 3 (ipykernel)",
   "language": "python",
   "name": "python3"
  },
  "language_info": {
   "codemirror_mode": {
    "name": "ipython",
    "version": 3
   },
   "file_extension": ".py",
   "mimetype": "text/x-python",
   "name": "python",
   "nbconvert_exporter": "python",
   "pygments_lexer": "ipython3",
   "version": "3.9.7"
  }
 },
 "nbformat": 4,
 "nbformat_minor": 5
}
